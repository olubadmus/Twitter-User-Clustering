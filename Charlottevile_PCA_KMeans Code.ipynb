{
 "cells": [
  {
   "cell_type": "code",
   "execution_count": 1,
   "metadata": {},
   "outputs": [],
   "source": [
    "import numpy as np\n",
    "import pandas as pd\n",
    "import matplotlib.pyplot as plt\n",
    "import seaborn as sns"
   ]
  },
  {
   "cell_type": "code",
   "execution_count": 2,
   "metadata": {},
   "outputs": [
    {
     "name": "stderr",
     "output_type": "stream",
     "text": [
      "C:\\Users\\oluba\\Anaconda3\\lib\\site-packages\\IPython\\core\\interactiveshell.py:3063: DtypeWarning: Columns (7) have mixed types.Specify dtype option on import or set low_memory=False.\n",
      "  interactivity=interactivity, compiler=compiler, result=result)\n"
     ]
    }
   ],
   "source": [
    "data = pd.read_csv('charlottsville_clean_large.csv')"
   ]
  },
  {
   "cell_type": "code",
   "execution_count": 3,
   "metadata": {},
   "outputs": [
    {
     "data": {
      "text/html": [
       "<div>\n",
       "<style scoped>\n",
       "    .dataframe tbody tr th:only-of-type {\n",
       "        vertical-align: middle;\n",
       "    }\n",
       "\n",
       "    .dataframe tbody tr th {\n",
       "        vertical-align: top;\n",
       "    }\n",
       "\n",
       "    .dataframe thead th {\n",
       "        text-align: right;\n",
       "    }\n",
       "</style>\n",
       "<table border=\"1\" class=\"dataframe\">\n",
       "  <thead>\n",
       "    <tr style=\"text-align: right;\">\n",
       "      <th></th>\n",
       "      <th>user</th>\n",
       "      <th>num_statuses</th>\n",
       "      <th>no_of_favs</th>\n",
       "      <th>num_friends</th>\n",
       "      <th>self_reported_location</th>\n",
       "      <th>num_followers</th>\n",
       "      <th>full_text</th>\n",
       "      <th>in_reply_to_screen_name</th>\n",
       "      <th>retweet_count</th>\n",
       "      <th>quoted_status_permalink</th>\n",
       "      <th>created_at</th>\n",
       "      <th>user_lang</th>\n",
       "    </tr>\n",
       "  </thead>\n",
       "  <tbody>\n",
       "    <tr>\n",
       "      <th>0</th>\n",
       "      <td>WorkingMIGirl</td>\n",
       "      <td>82270</td>\n",
       "      <td>61044</td>\n",
       "      <td>4568</td>\n",
       "      <td>United States</td>\n",
       "      <td>3675</td>\n",
       "      <td>' \"When asked to condemn, he just walked out o...</td>\n",
       "      <td>NaN</td>\n",
       "      <td>1</td>\n",
       "      <td>{'display': 'twitter.com/KDavidSmithAut…', 'ex...</td>\n",
       "      <td>2017-08-14 21:31:06+00:00</td>\n",
       "      <td>en</td>\n",
       "    </tr>\n",
       "    <tr>\n",
       "      <th>1</th>\n",
       "      <td>MakeHerWETWest</td>\n",
       "      <td>207870</td>\n",
       "      <td>4170</td>\n",
       "      <td>843</td>\n",
       "      <td>Flint.</td>\n",
       "      <td>1558</td>\n",
       "      <td>- LOOK AT GOD 🗣 https://t.co/KxaP6pyZVK</td>\n",
       "      <td>NaN</td>\n",
       "      <td>1</td>\n",
       "      <td>{'display': 'twitter.com/wafb/status/89…', 'ex...</td>\n",
       "      <td>2017-08-14 18:16:37+00:00</td>\n",
       "      <td>en</td>\n",
       "    </tr>\n",
       "    <tr>\n",
       "      <th>2</th>\n",
       "      <td>Jet_Blvck_Bitxh</td>\n",
       "      <td>2883</td>\n",
       "      <td>1163</td>\n",
       "      <td>281</td>\n",
       "      <td>BK✈️VA</td>\n",
       "      <td>266</td>\n",
       "      <td>- Put a Meme on this LMFAOOOO #Charlottesville...</td>\n",
       "      <td>NaN</td>\n",
       "      <td>1</td>\n",
       "      <td>NaN</td>\n",
       "      <td>2017-08-14 18:06:07+00:00</td>\n",
       "      <td>en</td>\n",
       "    </tr>\n",
       "    <tr>\n",
       "      <th>3</th>\n",
       "      <td>CramerSez</td>\n",
       "      <td>13197</td>\n",
       "      <td>1999</td>\n",
       "      <td>2541</td>\n",
       "      <td>Indiana, USA</td>\n",
       "      <td>3429</td>\n",
       "      <td>-\\nMore #fakenews from liberals in attempt to ...</td>\n",
       "      <td>NaN</td>\n",
       "      <td>0</td>\n",
       "      <td>NaN</td>\n",
       "      <td>2017-08-14 19:23:47+00:00</td>\n",
       "      <td>en</td>\n",
       "    </tr>\n",
       "    <tr>\n",
       "      <th>4</th>\n",
       "      <td>CramerSez</td>\n",
       "      <td>13237</td>\n",
       "      <td>2010</td>\n",
       "      <td>2729</td>\n",
       "      <td>Indiana, USA</td>\n",
       "      <td>3521</td>\n",
       "      <td>-\\nThe only reason #MSM, #Democrats, #BlackLiv...</td>\n",
       "      <td>NaN</td>\n",
       "      <td>0</td>\n",
       "      <td>NaN</td>\n",
       "      <td>2017-08-14 22:48:48+00:00</td>\n",
       "      <td>en</td>\n",
       "    </tr>\n",
       "  </tbody>\n",
       "</table>\n",
       "</div>"
      ],
      "text/plain": [
       "              user  num_statuses  no_of_favs  num_friends  \\\n",
       "0    WorkingMIGirl         82270       61044         4568   \n",
       "1   MakeHerWETWest        207870        4170          843   \n",
       "2  Jet_Blvck_Bitxh          2883        1163          281   \n",
       "3        CramerSez         13197        1999         2541   \n",
       "4        CramerSez         13237        2010         2729   \n",
       "\n",
       "  self_reported_location  num_followers  \\\n",
       "0          United States           3675   \n",
       "1                Flint.            1558   \n",
       "2                 BK✈️VA            266   \n",
       "3           Indiana, USA           3429   \n",
       "4           Indiana, USA           3521   \n",
       "\n",
       "                                           full_text in_reply_to_screen_name  \\\n",
       "0  ' \"When asked to condemn, he just walked out o...                     NaN   \n",
       "1            - LOOK AT GOD 🗣 https://t.co/KxaP6pyZVK                     NaN   \n",
       "2  - Put a Meme on this LMFAOOOO #Charlottesville...                     NaN   \n",
       "3  -\\nMore #fakenews from liberals in attempt to ...                     NaN   \n",
       "4  -\\nThe only reason #MSM, #Democrats, #BlackLiv...                     NaN   \n",
       "\n",
       "   retweet_count                            quoted_status_permalink  \\\n",
       "0              1  {'display': 'twitter.com/KDavidSmithAut…', 'ex...   \n",
       "1              1  {'display': 'twitter.com/wafb/status/89…', 'ex...   \n",
       "2              1                                                NaN   \n",
       "3              0                                                NaN   \n",
       "4              0                                                NaN   \n",
       "\n",
       "                  created_at user_lang  \n",
       "0  2017-08-14 21:31:06+00:00        en  \n",
       "1  2017-08-14 18:16:37+00:00        en  \n",
       "2  2017-08-14 18:06:07+00:00        en  \n",
       "3  2017-08-14 19:23:47+00:00        en  \n",
       "4  2017-08-14 22:48:48+00:00        en  "
      ]
     },
     "execution_count": 3,
     "metadata": {},
     "output_type": "execute_result"
    }
   ],
   "source": [
    "data.head()"
   ]
  },
  {
   "cell_type": "markdown",
   "metadata": {},
   "source": [
    "#### EDA"
   ]
  },
  {
   "cell_type": "code",
   "execution_count": 4,
   "metadata": {},
   "outputs": [
    {
     "name": "stdout",
     "output_type": "stream",
     "text": [
      "<class 'pandas.core.frame.DataFrame'>\n",
      "RangeIndex: 223815 entries, 0 to 223814\n",
      "Data columns (total 12 columns):\n",
      " #   Column                   Non-Null Count   Dtype \n",
      "---  ------                   --------------   ----- \n",
      " 0   user                     223815 non-null  object\n",
      " 1   num_statuses             223815 non-null  int64 \n",
      " 2   no_of_favs               223815 non-null  int64 \n",
      " 3   num_friends              223815 non-null  int64 \n",
      " 4   self_reported_location   161630 non-null  object\n",
      " 5   num_followers            223815 non-null  int64 \n",
      " 6   full_text                223815 non-null  object\n",
      " 7   in_reply_to_screen_name  5777 non-null    object\n",
      " 8   retweet_count            223815 non-null  int64 \n",
      " 9   quoted_status_permalink  85383 non-null   object\n",
      " 10  created_at               223815 non-null  object\n",
      " 11  user_lang                223815 non-null  object\n",
      "dtypes: int64(5), object(7)\n",
      "memory usage: 20.5+ MB\n"
     ]
    },
    {
     "data": {
      "text/html": [
       "<div>\n",
       "<style scoped>\n",
       "    .dataframe tbody tr th:only-of-type {\n",
       "        vertical-align: middle;\n",
       "    }\n",
       "\n",
       "    .dataframe tbody tr th {\n",
       "        vertical-align: top;\n",
       "    }\n",
       "\n",
       "    .dataframe thead th {\n",
       "        text-align: right;\n",
       "    }\n",
       "</style>\n",
       "<table border=\"1\" class=\"dataframe\">\n",
       "  <thead>\n",
       "    <tr style=\"text-align: right;\">\n",
       "      <th></th>\n",
       "      <th>num_statuses</th>\n",
       "      <th>no_of_favs</th>\n",
       "      <th>num_friends</th>\n",
       "      <th>num_followers</th>\n",
       "      <th>retweet_count</th>\n",
       "    </tr>\n",
       "  </thead>\n",
       "  <tbody>\n",
       "    <tr>\n",
       "      <th>count</th>\n",
       "      <td>2.238150e+05</td>\n",
       "      <td>2.238150e+05</td>\n",
       "      <td>223815.000000</td>\n",
       "      <td>2.238150e+05</td>\n",
       "      <td>223815.000000</td>\n",
       "    </tr>\n",
       "    <tr>\n",
       "      <th>mean</th>\n",
       "      <td>6.443623e+04</td>\n",
       "      <td>5.135352e+04</td>\n",
       "      <td>2491.795997</td>\n",
       "      <td>6.918494e+03</td>\n",
       "      <td>11084.149874</td>\n",
       "    </tr>\n",
       "    <tr>\n",
       "      <th>std</th>\n",
       "      <td>1.094668e+05</td>\n",
       "      <td>8.378448e+04</td>\n",
       "      <td>7399.975402</td>\n",
       "      <td>1.872624e+05</td>\n",
       "      <td>26281.183601</td>\n",
       "    </tr>\n",
       "    <tr>\n",
       "      <th>min</th>\n",
       "      <td>1.000000e+00</td>\n",
       "      <td>0.000000e+00</td>\n",
       "      <td>0.000000</td>\n",
       "      <td>0.000000e+00</td>\n",
       "      <td>0.000000</td>\n",
       "    </tr>\n",
       "    <tr>\n",
       "      <th>25%</th>\n",
       "      <td>8.401000e+03</td>\n",
       "      <td>5.237500e+03</td>\n",
       "      <td>349.000000</td>\n",
       "      <td>2.560000e+02</td>\n",
       "      <td>13.000000</td>\n",
       "    </tr>\n",
       "    <tr>\n",
       "      <th>50%</th>\n",
       "      <td>2.714200e+04</td>\n",
       "      <td>2.056300e+04</td>\n",
       "      <td>848.000000</td>\n",
       "      <td>7.330000e+02</td>\n",
       "      <td>541.000000</td>\n",
       "    </tr>\n",
       "    <tr>\n",
       "      <th>75%</th>\n",
       "      <td>7.518400e+04</td>\n",
       "      <td>6.072150e+04</td>\n",
       "      <td>2461.000000</td>\n",
       "      <td>2.341000e+03</td>\n",
       "      <td>8334.000000</td>\n",
       "    </tr>\n",
       "    <tr>\n",
       "      <th>max</th>\n",
       "      <td>3.413586e+06</td>\n",
       "      <td>1.498512e+06</td>\n",
       "      <td>848619.000000</td>\n",
       "      <td>4.388326e+07</td>\n",
       "      <td>134300.000000</td>\n",
       "    </tr>\n",
       "  </tbody>\n",
       "</table>\n",
       "</div>"
      ],
      "text/plain": [
       "       num_statuses    no_of_favs    num_friends  num_followers  retweet_count\n",
       "count  2.238150e+05  2.238150e+05  223815.000000   2.238150e+05  223815.000000\n",
       "mean   6.443623e+04  5.135352e+04    2491.795997   6.918494e+03   11084.149874\n",
       "std    1.094668e+05  8.378448e+04    7399.975402   1.872624e+05   26281.183601\n",
       "min    1.000000e+00  0.000000e+00       0.000000   0.000000e+00       0.000000\n",
       "25%    8.401000e+03  5.237500e+03     349.000000   2.560000e+02      13.000000\n",
       "50%    2.714200e+04  2.056300e+04     848.000000   7.330000e+02     541.000000\n",
       "75%    7.518400e+04  6.072150e+04    2461.000000   2.341000e+03    8334.000000\n",
       "max    3.413586e+06  1.498512e+06  848619.000000   4.388326e+07  134300.000000"
      ]
     },
     "execution_count": 4,
     "metadata": {},
     "output_type": "execute_result"
    }
   ],
   "source": [
    "data.info()\n",
    "data.describe()"
   ]
  },
  {
   "cell_type": "code",
   "execution_count": 5,
   "metadata": {},
   "outputs": [
    {
     "data": {
      "text/plain": [
       "<matplotlib.axes._subplots.AxesSubplot at 0x209e8fa6dc8>"
      ]
     },
     "execution_count": 5,
     "metadata": {},
     "output_type": "execute_result"
    },
    {
     "data": {
      "image/png": "[encoded data removed]",
      "text/plain": [
       "<Figure size 432x288 with 1 Axes>"
      ]
     },
     "metadata": {
      "needs_background": "light"
     },
     "output_type": "display_data"
    }
   ],
   "source": [
    "# Visualize missing values\n",
    "\n",
    "sns.heatmap(data.isnull(), cbar=False, cmap='viridis', yticklabels=False)"
   ]
  },
  {
   "cell_type": "code",
   "execution_count": 6,
   "metadata": {},
   "outputs": [
    {
     "data": {
      "text/plain": [
       "Index(['user', 'num_statuses', 'no_of_favs', 'num_friends',\n",
       "       'self_reported_location', 'num_followers', 'full_text',\n",
       "       'in_reply_to_screen_name', 'retweet_count', 'quoted_status_permalink',\n",
       "       'created_at', 'user_lang'],\n",
       "      dtype='object')"
      ]
     },
     "execution_count": 6,
     "metadata": {},
     "output_type": "execute_result"
    }
   ],
   "source": [
    "data.columns"
   ]
  },
  {
   "cell_type": "code",
   "execution_count": 7,
   "metadata": {},
   "outputs": [],
   "source": [
    "# Drop some columns that has no numerical values\n",
    "\n",
    "data2 = data.drop(['self_reported_location', 'in_reply_to_screen_name',\n",
    "                   'quoted_status_permalink'], axis =1)"
   ]
  },
  {
   "cell_type": "code",
   "execution_count": 8,
   "metadata": {},
   "outputs": [],
   "source": [
    "# Add new features from datetime stamp.\n",
    "# We focus only on the hour of the day, since all tweets are from the same date.month.year\n",
    "\n",
    "def extract_hour(x):\n",
    "    hour = pd.DatetimeIndex(x).hour\n",
    "    return hour"
   ]
  },
  {
   "cell_type": "code",
   "execution_count": 9,
   "metadata": {},
   "outputs": [],
   "source": [
    "# Add new feature to dataframe\n",
    "\n",
    "data2['hours'] = extract_hour(data2['created_at'])"
   ]
  },
  {
   "cell_type": "code",
   "execution_count": 10,
   "metadata": {},
   "outputs": [
    {
     "data": {
      "text/html": [
       "<div>\n",
       "<style scoped>\n",
       "    .dataframe tbody tr th:only-of-type {\n",
       "        vertical-align: middle;\n",
       "    }\n",
       "\n",
       "    .dataframe tbody tr th {\n",
       "        vertical-align: top;\n",
       "    }\n",
       "\n",
       "    .dataframe thead th {\n",
       "        text-align: right;\n",
       "    }\n",
       "</style>\n",
       "<table border=\"1\" class=\"dataframe\">\n",
       "  <thead>\n",
       "    <tr style=\"text-align: right;\">\n",
       "      <th></th>\n",
       "      <th>user</th>\n",
       "      <th>num_statuses</th>\n",
       "      <th>no_of_favs</th>\n",
       "      <th>num_friends</th>\n",
       "      <th>num_followers</th>\n",
       "      <th>full_text</th>\n",
       "      <th>retweet_count</th>\n",
       "      <th>created_at</th>\n",
       "      <th>user_lang</th>\n",
       "      <th>hours</th>\n",
       "    </tr>\n",
       "  </thead>\n",
       "  <tbody>\n",
       "    <tr>\n",
       "      <th>0</th>\n",
       "      <td>WorkingMIGirl</td>\n",
       "      <td>82270</td>\n",
       "      <td>61044</td>\n",
       "      <td>4568</td>\n",
       "      <td>3675</td>\n",
       "      <td>' \"When asked to condemn, he just walked out o...</td>\n",
       "      <td>1</td>\n",
       "      <td>2017-08-14 21:31:06+00:00</td>\n",
       "      <td>en</td>\n",
       "      <td>21</td>\n",
       "    </tr>\n",
       "    <tr>\n",
       "      <th>1</th>\n",
       "      <td>MakeHerWETWest</td>\n",
       "      <td>207870</td>\n",
       "      <td>4170</td>\n",
       "      <td>843</td>\n",
       "      <td>1558</td>\n",
       "      <td>- LOOK AT GOD 🗣 https://t.co/KxaP6pyZVK</td>\n",
       "      <td>1</td>\n",
       "      <td>2017-08-14 18:16:37+00:00</td>\n",
       "      <td>en</td>\n",
       "      <td>18</td>\n",
       "    </tr>\n",
       "  </tbody>\n",
       "</table>\n",
       "</div>"
      ],
      "text/plain": [
       "             user  num_statuses  no_of_favs  num_friends  num_followers  \\\n",
       "0   WorkingMIGirl         82270       61044         4568           3675   \n",
       "1  MakeHerWETWest        207870        4170          843           1558   \n",
       "\n",
       "                                           full_text  retweet_count  \\\n",
       "0  ' \"When asked to condemn, he just walked out o...              1   \n",
       "1            - LOOK AT GOD 🗣 https://t.co/KxaP6pyZVK              1   \n",
       "\n",
       "                  created_at user_lang  hours  \n",
       "0  2017-08-14 21:31:06+00:00        en     21  \n",
       "1  2017-08-14 18:16:37+00:00        en     18  "
      ]
     },
     "execution_count": 10,
     "metadata": {},
     "output_type": "execute_result"
    }
   ],
   "source": [
    "data2.head(2)"
   ]
  },
  {
   "cell_type": "code",
   "execution_count": 11,
   "metadata": {},
   "outputs": [
    {
     "data": {
      "image/png": "[encoded data removed]",
      "text/plain": [
       "<Figure size 864x504 with 1 Axes>"
      ]
     },
     "metadata": {},
     "output_type": "display_data"
    }
   ],
   "source": [
    "\n",
    "sns.set_style(style='whitegrid')\n",
    "plt.figure(figsize=(12, 7))\n",
    "sns.countplot(data2['hours'], palette='inferno_r')\n",
    "plt.savefig(\"Tweets_by_hour.png\")"
   ]
  },
  {
   "cell_type": "code",
   "execution_count": null,
   "metadata": {},
   "outputs": [],
   "source": []
  },
  {
   "cell_type": "code",
   "execution_count": 12,
   "metadata": {},
   "outputs": [
    {
     "data": {
      "text/plain": [
       "<matplotlib.axes._subplots.AxesSubplot at 0x209e8a61608>"
      ]
     },
     "execution_count": 12,
     "metadata": {},
     "output_type": "execute_result"
    },
    {
     "data": {
      "image/png": "[encoded data removed]",
      "text/plain": [
       "<Figure size 432x288 with 2 Axes>"
      ]
     },
     "metadata": {},
     "output_type": "display_data"
    }
   ],
   "source": [
    "sns.heatmap(data2.isnull(), cmap='viridis', yticklabels=False)"
   ]
  },
  {
   "cell_type": "code",
   "execution_count": null,
   "metadata": {},
   "outputs": [],
   "source": []
  },
  {
   "cell_type": "code",
   "execution_count": 13,
   "metadata": {},
   "outputs": [
    {
     "data": {
      "text/html": [
       "<div>\n",
       "<style scoped>\n",
       "    .dataframe tbody tr th:only-of-type {\n",
       "        vertical-align: middle;\n",
       "    }\n",
       "\n",
       "    .dataframe tbody tr th {\n",
       "        vertical-align: top;\n",
       "    }\n",
       "\n",
       "    .dataframe thead th {\n",
       "        text-align: right;\n",
       "    }\n",
       "</style>\n",
       "<table border=\"1\" class=\"dataframe\">\n",
       "  <thead>\n",
       "    <tr style=\"text-align: right;\">\n",
       "      <th></th>\n",
       "      <th>user</th>\n",
       "      <th>num_statuses</th>\n",
       "      <th>no_of_favs</th>\n",
       "      <th>num_friends</th>\n",
       "      <th>num_followers</th>\n",
       "      <th>full_text</th>\n",
       "      <th>retweet_count</th>\n",
       "      <th>created_at</th>\n",
       "      <th>user_lang</th>\n",
       "      <th>hours</th>\n",
       "    </tr>\n",
       "  </thead>\n",
       "  <tbody>\n",
       "  </tbody>\n",
       "</table>\n",
       "</div>"
      ],
      "text/plain": [
       "Empty DataFrame\n",
       "Columns: [user, num_statuses, no_of_favs, num_friends, num_followers, full_text, retweet_count, created_at, user_lang, hours]\n",
       "Index: []"
      ]
     },
     "execution_count": 13,
     "metadata": {},
     "output_type": "execute_result"
    }
   ],
   "source": [
    "# I tried to check what language the tweets were written in, if english, then I fill then up as 'en'\n",
    "\n",
    "data2[data2['user_lang'] != 'en']"
   ]
  },
  {
   "cell_type": "code",
   "execution_count": null,
   "metadata": {},
   "outputs": [],
   "source": []
  },
  {
   "cell_type": "code",
   "execution_count": 14,
   "metadata": {},
   "outputs": [
    {
     "data": {
      "text/html": [
       "<div>\n",
       "<style scoped>\n",
       "    .dataframe tbody tr th:only-of-type {\n",
       "        vertical-align: middle;\n",
       "    }\n",
       "\n",
       "    .dataframe tbody tr th {\n",
       "        vertical-align: top;\n",
       "    }\n",
       "\n",
       "    .dataframe thead th {\n",
       "        text-align: right;\n",
       "    }\n",
       "</style>\n",
       "<table border=\"1\" class=\"dataframe\">\n",
       "  <thead>\n",
       "    <tr style=\"text-align: right;\">\n",
       "      <th></th>\n",
       "      <th>num_statuses</th>\n",
       "      <th>no_of_favs</th>\n",
       "      <th>num_friends</th>\n",
       "      <th>num_followers</th>\n",
       "      <th>retweet_count</th>\n",
       "      <th>hours</th>\n",
       "    </tr>\n",
       "  </thead>\n",
       "  <tbody>\n",
       "    <tr>\n",
       "      <th>0</th>\n",
       "      <td>82270</td>\n",
       "      <td>61044</td>\n",
       "      <td>4568</td>\n",
       "      <td>3675</td>\n",
       "      <td>1</td>\n",
       "      <td>21</td>\n",
       "    </tr>\n",
       "    <tr>\n",
       "      <th>1</th>\n",
       "      <td>207870</td>\n",
       "      <td>4170</td>\n",
       "      <td>843</td>\n",
       "      <td>1558</td>\n",
       "      <td>1</td>\n",
       "      <td>18</td>\n",
       "    </tr>\n",
       "  </tbody>\n",
       "</table>\n",
       "</div>"
      ],
      "text/plain": [
       "   num_statuses  no_of_favs  num_friends  num_followers  retweet_count  hours\n",
       "0         82270       61044         4568           3675              1     21\n",
       "1        207870        4170          843           1558              1     18"
      ]
     },
     "execution_count": 14,
     "metadata": {},
     "output_type": "execute_result"
    }
   ],
   "source": [
    "# Drop non-numerical features\n",
    "\n",
    "\n",
    "k_df = data2.drop(['user','full_text','created_at', 'user_lang'], axis=1)\n",
    "k_df.head(2)"
   ]
  },
  {
   "cell_type": "markdown",
   "metadata": {},
   "source": [
    "##### At this point, I though about converting user's location to coordinates and use them as part of numerical user metrics, but I couldn't fgure the right libraries out, so I dropped the idea"
   ]
  },
  {
   "cell_type": "code",
   "execution_count": 15,
   "metadata": {},
   "outputs": [],
   "source": [
    "k=k_df"
   ]
  },
  {
   "cell_type": "code",
   "execution_count": null,
   "metadata": {},
   "outputs": [],
   "source": []
  },
  {
   "cell_type": "code",
   "execution_count": 17,
   "metadata": {},
   "outputs": [
    {
     "name": "stdout",
     "output_type": "stream",
     "text": [
      "<class 'pandas.core.frame.DataFrame'>\n",
      "RangeIndex: 223815 entries, 0 to 223814\n",
      "Data columns (total 6 columns):\n",
      " #   Column         Non-Null Count   Dtype\n",
      "---  ------         --------------   -----\n",
      " 0   num_statuses   223815 non-null  int64\n",
      " 1   no_of_favs     223815 non-null  int64\n",
      " 2   num_friends    223815 non-null  int64\n",
      " 3   num_followers  223815 non-null  int64\n",
      " 4   retweet_count  223815 non-null  int64\n",
      " 5   hours          223815 non-null  int64\n",
      "dtypes: int64(6)\n",
      "memory usage: 10.2 MB\n"
     ]
    }
   ],
   "source": [
    "k_df.info()"
   ]
  },
  {
   "cell_type": "code",
   "execution_count": null,
   "metadata": {},
   "outputs": [],
   "source": []
  },
  {
   "cell_type": "code",
   "execution_count": 18,
   "metadata": {},
   "outputs": [
    {
     "data": {
      "text/html": [
       "<div>\n",
       "<style scoped>\n",
       "    .dataframe tbody tr th:only-of-type {\n",
       "        vertical-align: middle;\n",
       "    }\n",
       "\n",
       "    .dataframe tbody tr th {\n",
       "        vertical-align: top;\n",
       "    }\n",
       "\n",
       "    .dataframe thead th {\n",
       "        text-align: right;\n",
       "    }\n",
       "</style>\n",
       "<table border=\"1\" class=\"dataframe\">\n",
       "  <thead>\n",
       "    <tr style=\"text-align: right;\">\n",
       "      <th></th>\n",
       "      <th>num_statuses</th>\n",
       "      <th>no_of_favs</th>\n",
       "      <th>num_friends</th>\n",
       "      <th>num_followers</th>\n",
       "      <th>retweet_count</th>\n",
       "      <th>hours</th>\n",
       "    </tr>\n",
       "  </thead>\n",
       "  <tbody>\n",
       "    <tr>\n",
       "      <th>num_statuses</th>\n",
       "      <td>1.000000</td>\n",
       "      <td>0.513157</td>\n",
       "      <td>0.243662</td>\n",
       "      <td>0.045592</td>\n",
       "      <td>-0.099342</td>\n",
       "      <td>0.023376</td>\n",
       "    </tr>\n",
       "    <tr>\n",
       "      <th>no_of_favs</th>\n",
       "      <td>0.513157</td>\n",
       "      <td>1.000000</td>\n",
       "      <td>0.191754</td>\n",
       "      <td>-0.000520</td>\n",
       "      <td>-0.082485</td>\n",
       "      <td>0.024621</td>\n",
       "    </tr>\n",
       "    <tr>\n",
       "      <th>num_friends</th>\n",
       "      <td>0.243662</td>\n",
       "      <td>0.191754</td>\n",
       "      <td>1.000000</td>\n",
       "      <td>0.063145</td>\n",
       "      <td>-0.078655</td>\n",
       "      <td>0.018834</td>\n",
       "    </tr>\n",
       "    <tr>\n",
       "      <th>num_followers</th>\n",
       "      <td>0.045592</td>\n",
       "      <td>-0.000520</td>\n",
       "      <td>0.063145</td>\n",
       "      <td>1.000000</td>\n",
       "      <td>-0.012288</td>\n",
       "      <td>0.000689</td>\n",
       "    </tr>\n",
       "    <tr>\n",
       "      <th>retweet_count</th>\n",
       "      <td>-0.099342</td>\n",
       "      <td>-0.082485</td>\n",
       "      <td>-0.078655</td>\n",
       "      <td>-0.012288</td>\n",
       "      <td>1.000000</td>\n",
       "      <td>-0.017493</td>\n",
       "    </tr>\n",
       "    <tr>\n",
       "      <th>hours</th>\n",
       "      <td>0.023376</td>\n",
       "      <td>0.024621</td>\n",
       "      <td>0.018834</td>\n",
       "      <td>0.000689</td>\n",
       "      <td>-0.017493</td>\n",
       "      <td>1.000000</td>\n",
       "    </tr>\n",
       "  </tbody>\n",
       "</table>\n",
       "</div>"
      ],
      "text/plain": [
       "               num_statuses  no_of_favs  num_friends  num_followers  \\\n",
       "num_statuses       1.000000    0.513157     0.243662       0.045592   \n",
       "no_of_favs         0.513157    1.000000     0.191754      -0.000520   \n",
       "num_friends        0.243662    0.191754     1.000000       0.063145   \n",
       "num_followers      0.045592   -0.000520     0.063145       1.000000   \n",
       "retweet_count     -0.099342   -0.082485    -0.078655      -0.012288   \n",
       "hours              0.023376    0.024621     0.018834       0.000689   \n",
       "\n",
       "               retweet_count     hours  \n",
       "num_statuses       -0.099342  0.023376  \n",
       "no_of_favs         -0.082485  0.024621  \n",
       "num_friends        -0.078655  0.018834  \n",
       "num_followers      -0.012288  0.000689  \n",
       "retweet_count       1.000000 -0.017493  \n",
       "hours              -0.017493  1.000000  "
      ]
     },
     "execution_count": 18,
     "metadata": {},
     "output_type": "execute_result"
    }
   ],
   "source": [
    "k_df.corr()"
   ]
  },
  {
   "cell_type": "code",
   "execution_count": 23,
   "metadata": {},
   "outputs": [
    {
     "data": {
      "image/png": "[encoded data removed]",
      "text/plain": [
       "<Figure size 576x432 with 2 Axes>"
      ]
     },
     "metadata": {},
     "output_type": "display_data"
    }
   ],
   "source": [
    "plt.figure(figsize=(8,6))\n",
    "sns.heatmap(k_df.corr(), cmap='viridis_r', annot=True, )\n",
    "plt.savefig('correlation_user_metric.png')"
   ]
  },
  {
   "cell_type": "code",
   "execution_count": null,
   "metadata": {},
   "outputs": [],
   "source": []
  },
  {
   "cell_type": "markdown",
   "metadata": {},
   "source": [
    "### PCA\n",
    "I dont know if PCA is neccessary in this case since we do no have many features, but I still go ahead to do it, just incase"
   ]
  },
  {
   "cell_type": "code",
   "execution_count": 24,
   "metadata": {},
   "outputs": [],
   "source": [
    "# Preprocessing\n",
    "\n",
    "from sklearn.preprocessing import StandardScaler"
   ]
  },
  {
   "cell_type": "code",
   "execution_count": 26,
   "metadata": {},
   "outputs": [
    {
     "data": {
      "text/plain": [
       "StandardScaler(copy=True, with_mean=True, with_std=True)"
      ]
     },
     "execution_count": 26,
     "metadata": {},
     "output_type": "execute_result"
    }
   ],
   "source": [
    "scaler = StandardScaler()\n",
    "scaler.fit(k_df)"
   ]
  },
  {
   "cell_type": "code",
   "execution_count": 27,
   "metadata": {},
   "outputs": [],
   "source": [
    "scale_df = scaler.transform(k_df)"
   ]
  },
  {
   "cell_type": "code",
   "execution_count": 28,
   "metadata": {},
   "outputs": [
    {
     "data": {
      "text/plain": [
       "array([[ 0.16291524,  0.11565987,  0.28056967, -0.01732062, -0.4217152 ,\n",
       "         1.06293188],\n",
       "       [ 1.31029788, -0.56315469, -0.22281151, -0.02862563, -0.4217152 ,\n",
       "        -0.54045303],\n",
       "       [-0.56230184, -0.59904447, -0.29875788, -0.03552506, -0.4217152 ,\n",
       "        -0.54045303],\n",
       "       ...,\n",
       "       [-0.40116584, -0.57247625,  0.1586771 ,  0.03226231, -0.4204976 ,\n",
       "        -1.07491467],\n",
       "       [-0.57209479, -0.53460519, -0.03835102, -0.03587217, -0.42175325,\n",
       "         1.06293188],\n",
       "       [ 0.12728791,  1.50253076, -0.19024376, -0.02719449, -0.42175325,\n",
       "         1.06293188]])"
      ]
     },
     "execution_count": 28,
     "metadata": {},
     "output_type": "execute_result"
    }
   ],
   "source": [
    "scale_df"
   ]
  },
  {
   "cell_type": "code",
   "execution_count": 119,
   "metadata": {},
   "outputs": [],
   "source": [
    "# PCA  #"
   ]
  },
  {
   "cell_type": "code",
   "execution_count": 29,
   "metadata": {},
   "outputs": [],
   "source": [
    "from sklearn.decomposition import PCA"
   ]
  },
  {
   "cell_type": "code",
   "execution_count": 30,
   "metadata": {},
   "outputs": [],
   "source": [
    "pca = PCA(n_components=3)"
   ]
  },
  {
   "cell_type": "code",
   "execution_count": 31,
   "metadata": {},
   "outputs": [
    {
     "data": {
      "text/plain": [
       "PCA(copy=True, iterated_power='auto', n_components=3, random_state=None,\n",
       "    svd_solver='auto', tol=0.0, whiten=False)"
      ]
     },
     "execution_count": 31,
     "metadata": {},
     "output_type": "execute_result"
    }
   ],
   "source": [
    "pca.fit(scale_df)"
   ]
  },
  {
   "cell_type": "code",
   "execution_count": 32,
   "metadata": {},
   "outputs": [],
   "source": [
    "# transform this data into its principal components\n",
    "\n",
    "i_pca = pca.transform(scale_df)"
   ]
  },
  {
   "cell_type": "code",
   "execution_count": 33,
   "metadata": {},
   "outputs": [
    {
     "data": {
      "text/plain": [
       "(223815, 3)"
      ]
     },
     "execution_count": 33,
     "metadata": {},
     "output_type": "execute_result"
    }
   ],
   "source": [
    "# check shape\n",
    "\n",
    "# scale_df.shape\n",
    "i_pca.shape"
   ]
  },
  {
   "cell_type": "code",
   "execution_count": 34,
   "metadata": {},
   "outputs": [
    {
     "data": {
      "text/plain": [
       "array([[ 0.44229132, -0.0399512 ,  1.10108533],\n",
       "       [ 0.44665982, -0.0059061 , -0.4646227 ],\n",
       "       [-0.79015512,  0.15890459, -0.29382079],\n",
       "       ...,\n",
       "       [-0.50623542,  0.34456191, -0.81872288],\n",
       "       [-0.55249154,  0.07617793,  1.22993695],\n",
       "       [ 1.06332512, -0.43226975,  0.96732661]])"
      ]
     },
     "execution_count": 34,
     "metadata": {},
     "output_type": "execute_result"
    }
   ],
   "source": [
    "# type(i_pca)\n",
    "i_pca"
   ]
  },
  {
   "cell_type": "code",
   "execution_count": 42,
   "metadata": {},
   "outputs": [
    {
     "data": {
      "text/plain": [
       "Text(0, 0.5, 'Principal Component B')"
      ]
     },
     "execution_count": 42,
     "metadata": {},
     "output_type": "execute_result"
    },
    {
     "data": {
      "image/png": "[encoded data removed]",
      "text/plain": [
       "<Figure size 576x432 with 1 Axes>"
      ]
     },
     "metadata": {},
     "output_type": "display_data"
    }
   ],
   "source": [
    "# Visualize the correlation\n",
    "\n",
    "plt.figure(figsize=(8,6))\n",
    "plt.scatter(i_pca[:,0], i_pca[:,1])\n",
    "plt.xlabel(\"Principal Component A\")\n",
    "plt.ylabel(\"Principal Component B\")"
   ]
  },
  {
   "cell_type": "code",
   "execution_count": null,
   "metadata": {},
   "outputs": [],
   "source": []
  },
  {
   "cell_type": "markdown",
   "metadata": {},
   "source": [
    "###### Corresponding the PrincComps with original features"
   ]
  },
  {
   "cell_type": "code",
   "execution_count": 36,
   "metadata": {},
   "outputs": [
    {
     "data": {
      "text/plain": [
       "array([[ 0.63147482,  0.60739554,  0.42063173,  0.08270729, -0.21216477,\n",
       "         0.05936983],\n",
       "       [-0.09647537, -0.20410242,  0.21962129,  0.94135622, -0.09131025,\n",
       "        -0.07944869],\n",
       "       [-0.08945929, -0.09821943,  0.00107265,  0.02364597, -0.26926967,\n",
       "         0.9535636 ]])"
      ]
     },
     "execution_count": 36,
     "metadata": {},
     "output_type": "execute_result"
    }
   ],
   "source": [
    "pca.components_"
   ]
  },
  {
   "cell_type": "code",
   "execution_count": 38,
   "metadata": {},
   "outputs": [],
   "source": [
    "df2 = pd.DataFrame(pca.components_, columns=k_df.columns)"
   ]
  },
  {
   "cell_type": "code",
   "execution_count": 39,
   "metadata": {},
   "outputs": [
    {
     "data": {
      "text/html": [
       "<div>\n",
       "<style scoped>\n",
       "    .dataframe tbody tr th:only-of-type {\n",
       "        vertical-align: middle;\n",
       "    }\n",
       "\n",
       "    .dataframe tbody tr th {\n",
       "        vertical-align: top;\n",
       "    }\n",
       "\n",
       "    .dataframe thead th {\n",
       "        text-align: right;\n",
       "    }\n",
       "</style>\n",
       "<table border=\"1\" class=\"dataframe\">\n",
       "  <thead>\n",
       "    <tr style=\"text-align: right;\">\n",
       "      <th></th>\n",
       "      <th>num_statuses</th>\n",
       "      <th>no_of_favs</th>\n",
       "      <th>num_friends</th>\n",
       "      <th>num_followers</th>\n",
       "      <th>retweet_count</th>\n",
       "      <th>hours</th>\n",
       "    </tr>\n",
       "  </thead>\n",
       "  <tbody>\n",
       "    <tr>\n",
       "      <th>0</th>\n",
       "      <td>0.631475</td>\n",
       "      <td>0.607396</td>\n",
       "      <td>0.420632</td>\n",
       "      <td>0.082707</td>\n",
       "      <td>-0.212165</td>\n",
       "      <td>0.059370</td>\n",
       "    </tr>\n",
       "    <tr>\n",
       "      <th>1</th>\n",
       "      <td>-0.096475</td>\n",
       "      <td>-0.204102</td>\n",
       "      <td>0.219621</td>\n",
       "      <td>0.941356</td>\n",
       "      <td>-0.091310</td>\n",
       "      <td>-0.079449</td>\n",
       "    </tr>\n",
       "    <tr>\n",
       "      <th>2</th>\n",
       "      <td>-0.089459</td>\n",
       "      <td>-0.098219</td>\n",
       "      <td>0.001073</td>\n",
       "      <td>0.023646</td>\n",
       "      <td>-0.269270</td>\n",
       "      <td>0.953564</td>\n",
       "    </tr>\n",
       "  </tbody>\n",
       "</table>\n",
       "</div>"
      ],
      "text/plain": [
       "   num_statuses  no_of_favs  num_friends  num_followers  retweet_count  \\\n",
       "0      0.631475    0.607396     0.420632       0.082707      -0.212165   \n",
       "1     -0.096475   -0.204102     0.219621       0.941356      -0.091310   \n",
       "2     -0.089459   -0.098219     0.001073       0.023646      -0.269270   \n",
       "\n",
       "      hours  \n",
       "0  0.059370  \n",
       "1 -0.079449  \n",
       "2  0.953564  "
      ]
     },
     "execution_count": 39,
     "metadata": {},
     "output_type": "execute_result"
    }
   ],
   "source": [
    "df2"
   ]
  },
  {
   "cell_type": "markdown",
   "metadata": {},
   "source": [
    "##### The strength of the correlations can be better seen with heatmap plotting"
   ]
  },
  {
   "cell_type": "code",
   "execution_count": 43,
   "metadata": {},
   "outputs": [
    {
     "data": {
      "image/png": "[encoded data removed]",
      "text/plain": [
       "<Figure size 576x432 with 2 Axes>"
      ]
     },
     "metadata": {},
     "output_type": "display_data"
    }
   ],
   "source": [
    "plt.figure(figsize=(8,6))\n",
    "\n",
    "sns.heatmap(df2,cmap='plasma', annot=True)\n",
    "plt.savefig(\"PCA Heatmap.png\")"
   ]
  },
  {
   "cell_type": "markdown",
   "metadata": {},
   "source": [
    "###### Hour of the day, number of statuses, num of favourites ONLY???"
   ]
  },
  {
   "cell_type": "code",
   "execution_count": null,
   "metadata": {},
   "outputs": [],
   "source": []
  },
  {
   "cell_type": "code",
   "execution_count": 44,
   "metadata": {},
   "outputs": [],
   "source": [
    "from sklearn.cluster import KMeans"
   ]
  },
  {
   "cell_type": "code",
   "execution_count": 45,
   "metadata": {},
   "outputs": [
    {
     "data": {
      "image/png": "[encoded data removed]",
      "text/plain": [
       "<Figure size 432x288 with 1 Axes>"
      ]
     },
     "metadata": {},
     "output_type": "display_data"
    }
   ],
   "source": [
    "# Using the Elbow method to search for optimal K-Value\n",
    "\n",
    "wcss = []\n",
    "for i in range(1, 11):\n",
    "    kmeans = KMeans(n_clusters=i, init='k-means++', max_iter=300, n_init=10, random_state=0)\n",
    "    kmeans.fit(i_pca)\n",
    "    wcss.append(kmeans.inertia_)\n",
    "plt.plot(range(1, 11), wcss)\n",
    "plt.title('Elbow Method')\n",
    "plt.xlabel('Number of clusters')\n",
    "plt.ylabel('WCSS')\n",
    "plt.savefig(\"Elbow_Method.png\")\n",
    "plt.show()\n"
   ]
  },
  {
   "cell_type": "markdown",
   "metadata": {},
   "source": [
    "###### I determined 4 to be the ideal/optimum value of clusters\n"
   ]
  },
  {
   "cell_type": "code",
   "execution_count": 46,
   "metadata": {},
   "outputs": [],
   "source": [
    "kmeans = KMeans(n_clusters=4)"
   ]
  },
  {
   "cell_type": "code",
   "execution_count": 47,
   "metadata": {},
   "outputs": [
    {
     "data": {
      "text/plain": [
       "KMeans(algorithm='auto', copy_x=True, init='k-means++', max_iter=300,\n",
       "       n_clusters=4, n_init=10, n_jobs=None, precompute_distances='auto',\n",
       "       random_state=None, tol=0.0001, verbose=0)"
      ]
     },
     "execution_count": 47,
     "metadata": {},
     "output_type": "execute_result"
    }
   ],
   "source": [
    "kmeans.fit(i_pca)"
   ]
  },
  {
   "cell_type": "code",
   "execution_count": 48,
   "metadata": {},
   "outputs": [
    {
     "data": {
      "text/plain": [
       "array([1, 2, 2, ..., 2, 1, 1])"
      ]
     },
     "execution_count": 48,
     "metadata": {},
     "output_type": "execute_result"
    }
   ],
   "source": [
    "kmeans.labels_"
   ]
  },
  {
   "cell_type": "code",
   "execution_count": 49,
   "metadata": {},
   "outputs": [
    {
     "data": {
      "text/plain": [
       "array([[ 3.15401231e+00, -3.19123549e-01, -2.68810457e-01],\n",
       "       [-1.94377214e-01, -1.98466289e-02,  8.61291084e-01],\n",
       "       [-4.38166878e-01,  6.70752127e-02, -8.44688052e-01],\n",
       "       [ 8.78213229e+00,  7.58676580e+01,  1.87973047e+00]])"
      ]
     },
     "execution_count": 49,
     "metadata": {},
     "output_type": "execute_result"
    }
   ],
   "source": [
    "centroids=kmeans.cluster_centers_\n",
    "kmeans.cluster_centers_"
   ]
  },
  {
   "cell_type": "code",
   "execution_count": 50,
   "metadata": {},
   "outputs": [
    {
     "data": {
      "text/plain": [
       "(223815, 3)"
      ]
     },
     "execution_count": 50,
     "metadata": {},
     "output_type": "execute_result"
    }
   ],
   "source": [
    "i_pca.shape"
   ]
  },
  {
   "cell_type": "code",
   "execution_count": 51,
   "metadata": {},
   "outputs": [
    {
     "data": {
      "text/plain": [
       "array([-0.0399512 , -0.0059061 ,  0.15890459, ...,  0.34456191,\n",
       "        0.07617793, -0.43226975])"
      ]
     },
     "execution_count": 51,
     "metadata": {},
     "output_type": "execute_result"
    }
   ],
   "source": [
    "i_pca[:,1]"
   ]
  },
  {
   "cell_type": "code",
   "execution_count": 52,
   "metadata": {},
   "outputs": [],
   "source": [
    "# plt.scatter(i_pca[:,0], i_pca[:,1],cmap='rainbow')"
   ]
  },
  {
   "cell_type": "code",
   "execution_count": 53,
   "metadata": {},
   "outputs": [
    {
     "data": {
      "image/png": "[encoded data removed]",
      "text/plain": [
       "<Figure size 432x432 with 1 Axes>"
      ]
     },
     "metadata": {},
     "output_type": "display_data"
    }
   ],
   "source": [
    "plt.figure(figsize=(6,6))\n",
    "sns.set_style(style='whitegrid')\n",
    "plt.title('K_Means Cluster')\n",
    "plt.scatter(i_pca[:,0], i_pca[:,1], c=kmeans.labels_,cmap='inferno_r')\n",
    "plt.savefig('final_clusters.png')\n",
    "plt.legend()"
   ]
  },
  {
   "cell_type": "code",
   "execution_count": null,
   "metadata": {},
   "outputs": [],
   "source": [
    "# Alternatively"
   ]
  },
  {
   "cell_type": "code",
   "execution_count": 55,
   "metadata": {},
   "outputs": [
    {
     "data": {
      "text/plain": [
       "<matplotlib.legend.Legend at 0x209f7c9a0c8>"
      ]
     },
     "execution_count": 55,
     "metadata": {},
     "output_type": "execute_result"
    },
    {
     "data": {
      "image/png": "[encoded data removed]",
      "text/plain": [
       "<Figure size 432x432 with 1 Axes>"
      ]
     },
     "metadata": {},
     "output_type": "display_data"
    }
   ],
   "source": [
    "fig, ax = plt.subplots(figsize=(6, 6))\n",
    "\n",
    "plt.scatter(i_pca[kmeans.labels_ == 0, 0], i_pca[kmeans.labels_ == 0, 1],\n",
    "            c='green', label='cluster 1')\n",
    "plt.scatter(i_pca[kmeans.labels_ == 1, 0], i_pca[kmeans.labels_ == 1, 1],\n",
    "            c='yellow', label='cluster 2')\n",
    "plt.scatter(i_pca[kmeans.labels_ == 2, 0], i_pca[kmeans.labels_ == 2, 1],\n",
    "            c='black', label='cluster 3')\n",
    "plt.scatter(i_pca[kmeans.labels_ == 3, 0], i_pca[kmeans.labels_ == 3, 1],\n",
    "            c='blue', label='cluster 4')\n",
    "plt.legend()"
   ]
  },
  {
   "cell_type": "code",
   "execution_count": 206,
   "metadata": {},
   "outputs": [
    {
     "data": {
      "text/plain": [
       "<matplotlib.collections.PathCollection at 0x2193e2101c8>"
      ]
     },
     "execution_count": 206,
     "metadata": {},
     "output_type": "execute_result"
    },
    {
     "data": {
      "image/png": "[encoded data removed]",
      "text/plain": [
       "<Figure size 432x288 with 1 Axes>"
      ]
     },
     "metadata": {},
     "output_type": "display_data"
    }
   ],
   "source": [
    "# visualizing the centroids\n",
    "\n",
    "plt.scatter(centroids[:, 0], centroids[:, 1], marker='*', s=300, c='r', label='centroid')"
   ]
  },
  {
   "cell_type": "markdown",
   "metadata": {},
   "source": []
  },
  {
   "cell_type": "markdown",
   "metadata": {},
   "source": [
    "#### Prediction"
   ]
  },
  {
   "cell_type": "code",
   "execution_count": 56,
   "metadata": {},
   "outputs": [],
   "source": [
    "y_pred = kmeans.fit_predict(k_df)"
   ]
  },
  {
   "cell_type": "code",
   "execution_count": 57,
   "metadata": {},
   "outputs": [
    {
     "data": {
      "text/plain": [
       "array([3, 3, 3, ..., 3, 3, 3])"
      ]
     },
     "execution_count": 57,
     "metadata": {},
     "output_type": "execute_result"
    }
   ],
   "source": [
    "# len(y_pred)\n",
    "y_pred"
   ]
  },
  {
   "cell_type": "code",
   "execution_count": 59,
   "metadata": {},
   "outputs": [],
   "source": [
    "# creating a new dataframe\n",
    "final_df = k_df"
   ]
  },
  {
   "cell_type": "code",
   "execution_count": 60,
   "metadata": {},
   "outputs": [],
   "source": [
    "# adding the label as a columns to dataframe\n",
    "\n",
    "final_df['label'] = y_pred"
   ]
  },
  {
   "cell_type": "code",
   "execution_count": 61,
   "metadata": {},
   "outputs": [
    {
     "data": {
      "text/html": [
       "<div>\n",
       "<style scoped>\n",
       "    .dataframe tbody tr th:only-of-type {\n",
       "        vertical-align: middle;\n",
       "    }\n",
       "\n",
       "    .dataframe tbody tr th {\n",
       "        vertical-align: top;\n",
       "    }\n",
       "\n",
       "    .dataframe thead th {\n",
       "        text-align: right;\n",
       "    }\n",
       "</style>\n",
       "<table border=\"1\" class=\"dataframe\">\n",
       "  <thead>\n",
       "    <tr style=\"text-align: right;\">\n",
       "      <th></th>\n",
       "      <th>num_statuses</th>\n",
       "      <th>no_of_favs</th>\n",
       "      <th>num_friends</th>\n",
       "      <th>num_followers</th>\n",
       "      <th>retweet_count</th>\n",
       "      <th>hours</th>\n",
       "      <th>label</th>\n",
       "    </tr>\n",
       "  </thead>\n",
       "  <tbody>\n",
       "    <tr>\n",
       "      <th>0</th>\n",
       "      <td>82270</td>\n",
       "      <td>61044</td>\n",
       "      <td>4568</td>\n",
       "      <td>3675</td>\n",
       "      <td>1</td>\n",
       "      <td>21</td>\n",
       "      <td>3</td>\n",
       "    </tr>\n",
       "    <tr>\n",
       "      <th>1</th>\n",
       "      <td>207870</td>\n",
       "      <td>4170</td>\n",
       "      <td>843</td>\n",
       "      <td>1558</td>\n",
       "      <td>1</td>\n",
       "      <td>18</td>\n",
       "      <td>3</td>\n",
       "    </tr>\n",
       "    <tr>\n",
       "      <th>2</th>\n",
       "      <td>2883</td>\n",
       "      <td>1163</td>\n",
       "      <td>281</td>\n",
       "      <td>266</td>\n",
       "      <td>1</td>\n",
       "      <td>18</td>\n",
       "      <td>3</td>\n",
       "    </tr>\n",
       "    <tr>\n",
       "      <th>3</th>\n",
       "      <td>13197</td>\n",
       "      <td>1999</td>\n",
       "      <td>2541</td>\n",
       "      <td>3429</td>\n",
       "      <td>0</td>\n",
       "      <td>19</td>\n",
       "      <td>3</td>\n",
       "    </tr>\n",
       "    <tr>\n",
       "      <th>4</th>\n",
       "      <td>13237</td>\n",
       "      <td>2010</td>\n",
       "      <td>2729</td>\n",
       "      <td>3521</td>\n",
       "      <td>0</td>\n",
       "      <td>22</td>\n",
       "      <td>3</td>\n",
       "    </tr>\n",
       "    <tr>\n",
       "      <th>...</th>\n",
       "      <td>...</td>\n",
       "      <td>...</td>\n",
       "      <td>...</td>\n",
       "      <td>...</td>\n",
       "      <td>...</td>\n",
       "      <td>...</td>\n",
       "      <td>...</td>\n",
       "    </tr>\n",
       "    <tr>\n",
       "      <th>223810</th>\n",
       "      <td>51762</td>\n",
       "      <td>22979</td>\n",
       "      <td>3440</td>\n",
       "      <td>606</td>\n",
       "      <td>0</td>\n",
       "      <td>17</td>\n",
       "      <td>3</td>\n",
       "    </tr>\n",
       "    <tr>\n",
       "      <th>223811</th>\n",
       "      <td>3287</td>\n",
       "      <td>2834</td>\n",
       "      <td>217</td>\n",
       "      <td>286</td>\n",
       "      <td>0</td>\n",
       "      <td>20</td>\n",
       "      <td>3</td>\n",
       "    </tr>\n",
       "    <tr>\n",
       "      <th>223812</th>\n",
       "      <td>20522</td>\n",
       "      <td>3389</td>\n",
       "      <td>3666</td>\n",
       "      <td>12960</td>\n",
       "      <td>33</td>\n",
       "      <td>17</td>\n",
       "      <td>3</td>\n",
       "    </tr>\n",
       "    <tr>\n",
       "      <th>223813</th>\n",
       "      <td>1811</td>\n",
       "      <td>6562</td>\n",
       "      <td>2208</td>\n",
       "      <td>201</td>\n",
       "      <td>0</td>\n",
       "      <td>21</td>\n",
       "      <td>3</td>\n",
       "    </tr>\n",
       "    <tr>\n",
       "      <th>223814</th>\n",
       "      <td>78370</td>\n",
       "      <td>177242</td>\n",
       "      <td>1084</td>\n",
       "      <td>1826</td>\n",
       "      <td>0</td>\n",
       "      <td>21</td>\n",
       "      <td>3</td>\n",
       "    </tr>\n",
       "  </tbody>\n",
       "</table>\n",
       "<p>223815 rows × 7 columns</p>\n",
       "</div>"
      ],
      "text/plain": [
       "        num_statuses  no_of_favs  num_friends  num_followers  retweet_count  \\\n",
       "0              82270       61044         4568           3675              1   \n",
       "1             207870        4170          843           1558              1   \n",
       "2               2883        1163          281            266              1   \n",
       "3              13197        1999         2541           3429              0   \n",
       "4              13237        2010         2729           3521              0   \n",
       "...              ...         ...          ...            ...            ...   \n",
       "223810         51762       22979         3440            606              0   \n",
       "223811          3287        2834          217            286              0   \n",
       "223812         20522        3389         3666          12960             33   \n",
       "223813          1811        6562         2208            201              0   \n",
       "223814         78370      177242         1084           1826              0   \n",
       "\n",
       "        hours  label  \n",
       "0          21      3  \n",
       "1          18      3  \n",
       "2          18      3  \n",
       "3          19      3  \n",
       "4          22      3  \n",
       "...       ...    ...  \n",
       "223810     17      3  \n",
       "223811     20      3  \n",
       "223812     17      3  \n",
       "223813     21      3  \n",
       "223814     21      3  \n",
       "\n",
       "[223815 rows x 7 columns]"
      ]
     },
     "execution_count": 61,
     "metadata": {},
     "output_type": "execute_result"
    }
   ],
   "source": [
    "final_df"
   ]
  },
  {
   "cell_type": "code",
   "execution_count": 62,
   "metadata": {},
   "outputs": [
    {
     "data": {
      "text/plain": [
       "array([3, 0, 1, 2])"
      ]
     },
     "execution_count": 62,
     "metadata": {},
     "output_type": "execute_result"
    }
   ],
   "source": [
    "final_df['label'].unique()"
   ]
  },
  {
   "cell_type": "code",
   "execution_count": 63,
   "metadata": {},
   "outputs": [],
   "source": [
    "# Add user names from initial data\n",
    "\n",
    "final_df[['username','tweet']]= data[['user','full_text']]"
   ]
  },
  {
   "cell_type": "code",
   "execution_count": 64,
   "metadata": {},
   "outputs": [
    {
     "data": {
      "text/html": [
       "<div>\n",
       "<style scoped>\n",
       "    .dataframe tbody tr th:only-of-type {\n",
       "        vertical-align: middle;\n",
       "    }\n",
       "\n",
       "    .dataframe tbody tr th {\n",
       "        vertical-align: top;\n",
       "    }\n",
       "\n",
       "    .dataframe thead th {\n",
       "        text-align: right;\n",
       "    }\n",
       "</style>\n",
       "<table border=\"1\" class=\"dataframe\">\n",
       "  <thead>\n",
       "    <tr style=\"text-align: right;\">\n",
       "      <th></th>\n",
       "      <th>num_statuses</th>\n",
       "      <th>no_of_favs</th>\n",
       "      <th>num_friends</th>\n",
       "      <th>num_followers</th>\n",
       "      <th>retweet_count</th>\n",
       "      <th>hours</th>\n",
       "      <th>label</th>\n",
       "      <th>username</th>\n",
       "      <th>tweet</th>\n",
       "    </tr>\n",
       "  </thead>\n",
       "  <tbody>\n",
       "    <tr>\n",
       "      <th>0</th>\n",
       "      <td>82270</td>\n",
       "      <td>61044</td>\n",
       "      <td>4568</td>\n",
       "      <td>3675</td>\n",
       "      <td>1</td>\n",
       "      <td>21</td>\n",
       "      <td>3</td>\n",
       "      <td>WorkingMIGirl</td>\n",
       "      <td>' \"When asked to condemn, he just walked out o...</td>\n",
       "    </tr>\n",
       "    <tr>\n",
       "      <th>1</th>\n",
       "      <td>207870</td>\n",
       "      <td>4170</td>\n",
       "      <td>843</td>\n",
       "      <td>1558</td>\n",
       "      <td>1</td>\n",
       "      <td>18</td>\n",
       "      <td>3</td>\n",
       "      <td>MakeHerWETWest</td>\n",
       "      <td>- LOOK AT GOD 🗣 https://t.co/KxaP6pyZVK</td>\n",
       "    </tr>\n",
       "    <tr>\n",
       "      <th>2</th>\n",
       "      <td>2883</td>\n",
       "      <td>1163</td>\n",
       "      <td>281</td>\n",
       "      <td>266</td>\n",
       "      <td>1</td>\n",
       "      <td>18</td>\n",
       "      <td>3</td>\n",
       "      <td>Jet_Blvck_Bitxh</td>\n",
       "      <td>- Put a Meme on this LMFAOOOO #Charlottesville...</td>\n",
       "    </tr>\n",
       "    <tr>\n",
       "      <th>3</th>\n",
       "      <td>13197</td>\n",
       "      <td>1999</td>\n",
       "      <td>2541</td>\n",
       "      <td>3429</td>\n",
       "      <td>0</td>\n",
       "      <td>19</td>\n",
       "      <td>3</td>\n",
       "      <td>CramerSez</td>\n",
       "      <td>-\\nMore #fakenews from liberals in attempt to ...</td>\n",
       "    </tr>\n",
       "    <tr>\n",
       "      <th>4</th>\n",
       "      <td>13237</td>\n",
       "      <td>2010</td>\n",
       "      <td>2729</td>\n",
       "      <td>3521</td>\n",
       "      <td>0</td>\n",
       "      <td>22</td>\n",
       "      <td>3</td>\n",
       "      <td>CramerSez</td>\n",
       "      <td>-\\nThe only reason #MSM, #Democrats, #BlackLiv...</td>\n",
       "    </tr>\n",
       "  </tbody>\n",
       "</table>\n",
       "</div>"
      ],
      "text/plain": [
       "   num_statuses  no_of_favs  num_friends  num_followers  retweet_count  hours  \\\n",
       "0         82270       61044         4568           3675              1     21   \n",
       "1        207870        4170          843           1558              1     18   \n",
       "2          2883        1163          281            266              1     18   \n",
       "3         13197        1999         2541           3429              0     19   \n",
       "4         13237        2010         2729           3521              0     22   \n",
       "\n",
       "   label         username                                              tweet  \n",
       "0      3    WorkingMIGirl  ' \"When asked to condemn, he just walked out o...  \n",
       "1      3   MakeHerWETWest            - LOOK AT GOD 🗣 https://t.co/KxaP6pyZVK  \n",
       "2      3  Jet_Blvck_Bitxh  - Put a Meme on this LMFAOOOO #Charlottesville...  \n",
       "3      3        CramerSez  -\\nMore #fakenews from liberals in attempt to ...  \n",
       "4      3        CramerSez  -\\nThe only reason #MSM, #Democrats, #BlackLiv...  "
      ]
     },
     "execution_count": 64,
     "metadata": {},
     "output_type": "execute_result"
    }
   ],
   "source": [
    "final_df.head()"
   ]
  },
  {
   "cell_type": "markdown",
   "metadata": {},
   "source": [
    "##### Create new Dataframes for each label categories"
   ]
  },
  {
   "cell_type": "code",
   "execution_count": 65,
   "metadata": {},
   "outputs": [],
   "source": [
    "cat_2 = final_df[final_df['label'] == 2]\n",
    "# cat_2"
   ]
  },
  {
   "cell_type": "code",
   "execution_count": 66,
   "metadata": {},
   "outputs": [],
   "source": [
    "cat_0 = final_df[final_df['label'] == 0]\n",
    "# cat_0"
   ]
  },
  {
   "cell_type": "code",
   "execution_count": 67,
   "metadata": {},
   "outputs": [],
   "source": [
    "cat_1 =final_df[final_df['label'] == 1]\n",
    "# cat_1"
   ]
  },
  {
   "cell_type": "code",
   "execution_count": 68,
   "metadata": {},
   "outputs": [],
   "source": [
    "cat_3 =final_df[final_df['label'] == 3]\n",
    "# cat_3"
   ]
  },
  {
   "cell_type": "code",
   "execution_count": 69,
   "metadata": {},
   "outputs": [],
   "source": [
    "# cat_0.columns[7]"
   ]
  },
  {
   "cell_type": "code",
   "execution_count": 70,
   "metadata": {},
   "outputs": [],
   "source": [
    "# Create a function to grab the usernames in each label category and their Tweets and write same to a csv file for further \n",
    "# qualitative analysis\n",
    "\n",
    "def user_tweet(x,y,filename=\"\"):\n",
    "#     count = 0\n",
    "    file_dict = {}\n",
    "    user_list = []\n",
    "    tweet_list= []\n",
    "    \n",
    "    for i in x:\n",
    "        user_list.append(i)\n",
    "        \n",
    "    for k in y:\n",
    "        tweet_list.append(k)\n",
    "        \n",
    "    file_dict['users'] = user_list\n",
    "    file_dict['message'] = tweet_list\n",
    "    \n",
    "    \n",
    "    \n",
    "    csv_data = pd.DataFrame(file_dict)\n",
    "    \n",
    "#     Write dataframe to file\n",
    "    wrt_file =csv_data.to_csv(filename +'.csv', header=True)\n",
    "        \n",
    "    print(\"File has been written to cwd as '{}.csv'\".format(filename))\n",
    "        \n",
    "#     return csv_data\n",
    "        \n",
    "    "
   ]
  },
  {
   "cell_type": "code",
   "execution_count": 71,
   "metadata": {},
   "outputs": [
    {
     "name": "stdout",
     "output_type": "stream",
     "text": [
      "File has been written to cwd as 'cat_2.csv'\n"
     ]
    }
   ],
   "source": [
    "user_tweet(cat_2['username'], cat_2['tweet'],\"cat_2\")"
   ]
  },
  {
   "cell_type": "code",
   "execution_count": 72,
   "metadata": {},
   "outputs": [
    {
     "name": "stdout",
     "output_type": "stream",
     "text": [
      "File has been written to cwd as 'cat_0.csv'\n"
     ]
    }
   ],
   "source": [
    "user_tweet(cat_0['username'], cat_0['tweet'],\"cat_0\")"
   ]
  },
  {
   "cell_type": "code",
   "execution_count": 73,
   "metadata": {},
   "outputs": [
    {
     "name": "stdout",
     "output_type": "stream",
     "text": [
      "File has been written to cwd as 'cat_1.csv'\n"
     ]
    }
   ],
   "source": [
    "user_tweet(cat_1['username'], cat_1['tweet'],\"cat_1\")"
   ]
  },
  {
   "cell_type": "code",
   "execution_count": 74,
   "metadata": {},
   "outputs": [
    {
     "name": "stdout",
     "output_type": "stream",
     "text": [
      "File has been written to cwd as 'cat_3.csv'\n"
     ]
    }
   ],
   "source": [
    "user_tweet(cat_3['username'], cat_3['tweet'],\"cat_3\")"
   ]
  },
  {
   "cell_type": "code",
   "execution_count": 75,
   "metadata": {},
   "outputs": [
    {
     "data": {
      "text/plain": [
       "<matplotlib.axes._subplots.AxesSubplot at 0x209e8d25988>"
      ]
     },
     "execution_count": 75,
     "metadata": {},
     "output_type": "execute_result"
    },
    {
     "data": {
      "image/png": "[encoded data removed]",
      "text/plain": [
       "<Figure size 432x288 with 1 Axes>"
      ]
     },
     "metadata": {},
     "output_type": "display_data"
    }
   ],
   "source": [
    "sns.countplot(final_df['label'])"
   ]
  },
  {
   "cell_type": "code",
   "execution_count": 76,
   "metadata": {},
   "outputs": [],
   "source": [
    "# export Label List to file\n",
    "\n",
    "lst =final_df['label']\n",
    "lab_df = pd.DataFrame(lst)\n",
    "# lab_df\n",
    "# Write to file for export\n",
    "lab_df.to_csv(\"label.csv\", header=True)\n"
   ]
  },
  {
   "cell_type": "markdown",
   "metadata": {},
   "source": [
    "##### CLusterting Score/Evaluation"
   ]
  },
  {
   "cell_type": "code",
   "execution_count": 77,
   "metadata": {},
   "outputs": [],
   "source": [
    "from sklearn.metrics import silhouette_score"
   ]
  },
  {
   "cell_type": "code",
   "execution_count": 78,
   "metadata": {},
   "outputs": [
    {
     "data": {
      "text/plain": [
       "Index(['num_statuses', 'no_of_favs', 'num_friends', 'num_followers',\n",
       "       'retweet_count', 'hours', 'label', 'username', 'tweet'],\n",
       "      dtype='object')"
      ]
     },
     "execution_count": 78,
     "metadata": {},
     "output_type": "execute_result"
    }
   ],
   "source": [
    "k_df.columns"
   ]
  },
  {
   "cell_type": "code",
   "execution_count": 81,
   "metadata": {},
   "outputs": [
    {
     "data": {
      "text/plain": [
       "0.7055793350415035"
      ]
     },
     "execution_count": 81,
     "metadata": {},
     "output_type": "execute_result"
    }
   ],
   "source": [
    "si_score = silhouette_score(k_df.drop(['label', 'username', 'tweet'], axis=1), y_pred)"
   ]
  },
  {
   "cell_type": "markdown",
   "metadata": {},
   "source": [
    "###### si_score of 0.7055793350415035 .....good or close to good? "
   ]
  },
  {
   "cell_type": "code",
   "execution_count": null,
   "metadata": {},
   "outputs": [],
   "source": []
  },
  {
   "cell_type": "code",
   "execution_count": null,
   "metadata": {},
   "outputs": [],
   "source": []
  }
 ],
 "metadata": {
  "kernelspec": {
   "display_name": "Python 3",
   "language": "python",
   "name": "python3"
  },
  "language_info": {
   "codemirror_mode": {
    "name": "ipython",
    "version": 3
   },
   "file_extension": ".py",
   "mimetype": "text/x-python",
   "name": "python",
   "nbconvert_exporter": "python",
   "pygments_lexer": "ipython3",
   "version": "3.7.7"
  }
 },
 "nbformat": 4,
 "nbformat_minor": 4
}
