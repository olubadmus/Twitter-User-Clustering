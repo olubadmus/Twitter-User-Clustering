{
 "cells": [
  {
   "cell_type": "code",
   "execution_count": 2,
   "metadata": {},
   "outputs": [],
   "source": [
    "import numpy as np\n",
    "import pandas as pd\n",
    "import matplotlib.pyplot as plt\n",
    "import seaborn as sns"
   ]
  },
  {
   "cell_type": "code",
   "execution_count": 3,
   "metadata": {},
   "outputs": [
    {
     "name": "stderr",
     "output_type": "stream",
     "text": [
      "C:\\Users\\oluba\\Anaconda3\\lib\\site-packages\\IPython\\core\\interactiveshell.py:3063: DtypeWarning: Columns (8,10) have mixed types.Specify dtype option on import or set low_memory=False.\n",
      "  interactivity=interactivity, compiler=compiler, result=result)\n"
     ]
    }
   ],
   "source": [
    "data = pd.read_csv('charlottsville_cleaned.csv')"
   ]
  },
  {
   "cell_type": "code",
   "execution_count": 4,
   "metadata": {},
   "outputs": [
    {
     "data": {
      "text/html": [
       "<div>\n",
       "<style scoped>\n",
       "    .dataframe tbody tr th:only-of-type {\n",
       "        vertical-align: middle;\n",
       "    }\n",
       "\n",
       "    .dataframe tbody tr th {\n",
       "        vertical-align: top;\n",
       "    }\n",
       "\n",
       "    .dataframe thead th {\n",
       "        text-align: right;\n",
       "    }\n",
       "</style>\n",
       "<table border=\"1\" class=\"dataframe\">\n",
       "  <thead>\n",
       "    <tr style=\"text-align: right;\">\n",
       "      <th></th>\n",
       "      <th>user</th>\n",
       "      <th>num_statuses</th>\n",
       "      <th>no_of_favs</th>\n",
       "      <th>num_friends</th>\n",
       "      <th>self_reported_location</th>\n",
       "      <th>num_followers</th>\n",
       "      <th>time_date</th>\n",
       "      <th>full_text</th>\n",
       "      <th>in_reply_to_screen_name</th>\n",
       "      <th>retweet_count</th>\n",
       "      <th>quoted_status_permalink</th>\n",
       "      <th>user_lang</th>\n",
       "    </tr>\n",
       "  </thead>\n",
       "  <tbody>\n",
       "    <tr>\n",
       "      <th>0</th>\n",
       "      <td>Ch3rv6</td>\n",
       "      <td>36</td>\n",
       "      <td>10</td>\n",
       "      <td>14</td>\n",
       "      <td>;)</td>\n",
       "      <td>0</td>\n",
       "      <td>2017-08-14 10:28:09+00:00</td>\n",
       "      <td>@Junkbot_K The justification of political viol...</td>\n",
       "      <td>HardRotCafe</td>\n",
       "      <td>0</td>\n",
       "      <td>NaN</td>\n",
       "      <td>en</td>\n",
       "    </tr>\n",
       "    <tr>\n",
       "      <th>1</th>\n",
       "      <td>sara31773</td>\n",
       "      <td>290</td>\n",
       "      <td>101</td>\n",
       "      <td>93</td>\n",
       "      <td>ÜT: 40.619204,-80.054637</td>\n",
       "      <td>0</td>\n",
       "      <td>2017-08-14 03:57:51+00:00</td>\n",
       "      <td>@realDonaldTrump In your name she is dead.  Yo...</td>\n",
       "      <td>realDonaldTrump</td>\n",
       "      <td>0</td>\n",
       "      <td>{'display': 'twitter.com/cnn/status/896…', 'ex...</td>\n",
       "      <td>en</td>\n",
       "    </tr>\n",
       "    <tr>\n",
       "      <th>2</th>\n",
       "      <td>dgell99</td>\n",
       "      <td>22</td>\n",
       "      <td>10</td>\n",
       "      <td>52</td>\n",
       "      <td>Brooklyn, NY</td>\n",
       "      <td>0</td>\n",
       "      <td>2017-08-14 16:24:42+00:00</td>\n",
       "      <td>@realDonaldTrump Honestly, could you stoop any...</td>\n",
       "      <td>realDonaldTrump</td>\n",
       "      <td>0</td>\n",
       "      <td>NaN</td>\n",
       "      <td>en</td>\n",
       "    </tr>\n",
       "    <tr>\n",
       "      <th>3</th>\n",
       "      <td>45Straight</td>\n",
       "      <td>3624</td>\n",
       "      <td>2026</td>\n",
       "      <td>4</td>\n",
       "      <td>Lists &amp; Followers = Block</td>\n",
       "      <td>0</td>\n",
       "      <td>2017-08-14 11:21:04+00:00</td>\n",
       "      <td>@foxandfriends @ScottWRasmussen @DineshDSouza ...</td>\n",
       "      <td>foxandfriends</td>\n",
       "      <td>0</td>\n",
       "      <td>NaN</td>\n",
       "      <td>en</td>\n",
       "    </tr>\n",
       "    <tr>\n",
       "      <th>4</th>\n",
       "      <td>CmikkiC123</td>\n",
       "      <td>20185</td>\n",
       "      <td>12331</td>\n",
       "      <td>1</td>\n",
       "      <td>ORLANDO, FL USA</td>\n",
       "      <td>0</td>\n",
       "      <td>2017-08-14 10:55:37+00:00</td>\n",
       "      <td>Will There Be An \"Executive Order/Travel Ban\" ...</td>\n",
       "      <td>NaN</td>\n",
       "      <td>0</td>\n",
       "      <td>NaN</td>\n",
       "      <td>en</td>\n",
       "    </tr>\n",
       "  </tbody>\n",
       "</table>\n",
       "</div>"
      ],
      "text/plain": [
       "         user  num_statuses  no_of_favs  num_friends  \\\n",
       "0      Ch3rv6            36          10           14   \n",
       "1   sara31773           290         101           93   \n",
       "2     dgell99            22          10           52   \n",
       "3  45Straight          3624        2026            4   \n",
       "4  CmikkiC123         20185       12331            1   \n",
       "\n",
       "      self_reported_location  num_followers                  time_date  \\\n",
       "0                         ;)              0  2017-08-14 10:28:09+00:00   \n",
       "1   ÜT: 40.619204,-80.054637              0  2017-08-14 03:57:51+00:00   \n",
       "2               Brooklyn, NY              0  2017-08-14 16:24:42+00:00   \n",
       "3  Lists & Followers = Block              0  2017-08-14 11:21:04+00:00   \n",
       "4            ORLANDO, FL USA              0  2017-08-14 10:55:37+00:00   \n",
       "\n",
       "                                           full_text in_reply_to_screen_name  \\\n",
       "0  @Junkbot_K The justification of political viol...             HardRotCafe   \n",
       "1  @realDonaldTrump In your name she is dead.  Yo...         realDonaldTrump   \n",
       "2  @realDonaldTrump Honestly, could you stoop any...         realDonaldTrump   \n",
       "3  @foxandfriends @ScottWRasmussen @DineshDSouza ...           foxandfriends   \n",
       "4  Will There Be An \"Executive Order/Travel Ban\" ...                     NaN   \n",
       "\n",
       "   retweet_count                            quoted_status_permalink user_lang  \n",
       "0              0                                                NaN        en  \n",
       "1              0  {'display': 'twitter.com/cnn/status/896…', 'ex...        en  \n",
       "2              0                                                NaN        en  \n",
       "3              0                                                NaN        en  \n",
       "4              0                                                NaN        en  "
      ]
     },
     "execution_count": 4,
     "metadata": {},
     "output_type": "execute_result"
    }
   ],
   "source": [
    "data.head()"
   ]
  },
  {
   "cell_type": "markdown",
   "metadata": {},
   "source": [
    "#### EDA"
   ]
  },
  {
   "cell_type": "code",
   "execution_count": 5,
   "metadata": {},
   "outputs": [
    {
     "name": "stdout",
     "output_type": "stream",
     "text": [
      "<class 'pandas.core.frame.DataFrame'>\n",
      "RangeIndex: 228317 entries, 0 to 228316\n",
      "Data columns (total 12 columns):\n",
      " #   Column                   Non-Null Count   Dtype \n",
      "---  ------                   --------------   ----- \n",
      " 0   user                     228317 non-null  object\n",
      " 1   num_statuses             228317 non-null  int64 \n",
      " 2   no_of_favs               228317 non-null  int64 \n",
      " 3   num_friends              228317 non-null  int64 \n",
      " 4   self_reported_location   166580 non-null  object\n",
      " 5   num_followers            228317 non-null  int64 \n",
      " 6   time_date                228317 non-null  object\n",
      " 7   full_text                228317 non-null  object\n",
      " 8   in_reply_to_screen_name  5805 non-null    object\n",
      " 9   retweet_count            228317 non-null  int64 \n",
      " 10  quoted_status_permalink  17993 non-null   object\n",
      " 11  user_lang                227946 non-null  object\n",
      "dtypes: int64(5), object(7)\n",
      "memory usage: 20.9+ MB\n"
     ]
    },
    {
     "data": {
      "text/html": [
       "<div>\n",
       "<style scoped>\n",
       "    .dataframe tbody tr th:only-of-type {\n",
       "        vertical-align: middle;\n",
       "    }\n",
       "\n",
       "    .dataframe tbody tr th {\n",
       "        vertical-align: top;\n",
       "    }\n",
       "\n",
       "    .dataframe thead th {\n",
       "        text-align: right;\n",
       "    }\n",
       "</style>\n",
       "<table border=\"1\" class=\"dataframe\">\n",
       "  <thead>\n",
       "    <tr style=\"text-align: right;\">\n",
       "      <th></th>\n",
       "      <th>num_statuses</th>\n",
       "      <th>no_of_favs</th>\n",
       "      <th>num_friends</th>\n",
       "      <th>num_followers</th>\n",
       "      <th>retweet_count</th>\n",
       "    </tr>\n",
       "  </thead>\n",
       "  <tbody>\n",
       "    <tr>\n",
       "      <th>count</th>\n",
       "      <td>2.283170e+05</td>\n",
       "      <td>2.283170e+05</td>\n",
       "      <td>228317.000000</td>\n",
       "      <td>2.283170e+05</td>\n",
       "      <td>228317.000000</td>\n",
       "    </tr>\n",
       "    <tr>\n",
       "      <th>mean</th>\n",
       "      <td>6.188206e+04</td>\n",
       "      <td>5.168811e+04</td>\n",
       "      <td>2432.667502</td>\n",
       "      <td>6.588377e+03</td>\n",
       "      <td>11677.025232</td>\n",
       "    </tr>\n",
       "    <tr>\n",
       "      <th>std</th>\n",
       "      <td>1.082517e+05</td>\n",
       "      <td>8.770380e+04</td>\n",
       "      <td>6420.233816</td>\n",
       "      <td>1.518730e+05</td>\n",
       "      <td>25649.498991</td>\n",
       "    </tr>\n",
       "    <tr>\n",
       "      <th>min</th>\n",
       "      <td>1.000000e+00</td>\n",
       "      <td>0.000000e+00</td>\n",
       "      <td>0.000000</td>\n",
       "      <td>0.000000e+00</td>\n",
       "      <td>0.000000</td>\n",
       "    </tr>\n",
       "    <tr>\n",
       "      <th>25%</th>\n",
       "      <td>6.661000e+03</td>\n",
       "      <td>4.521000e+03</td>\n",
       "      <td>358.000000</td>\n",
       "      <td>2.150000e+02</td>\n",
       "      <td>58.000000</td>\n",
       "    </tr>\n",
       "    <tr>\n",
       "      <th>50%</th>\n",
       "      <td>2.413600e+04</td>\n",
       "      <td>1.911400e+04</td>\n",
       "      <td>911.000000</td>\n",
       "      <td>6.890000e+02</td>\n",
       "      <td>1341.000000</td>\n",
       "    </tr>\n",
       "    <tr>\n",
       "      <th>75%</th>\n",
       "      <td>7.133800e+04</td>\n",
       "      <td>6.019600e+04</td>\n",
       "      <td>2562.000000</td>\n",
       "      <td>2.297000e+03</td>\n",
       "      <td>8414.000000</td>\n",
       "    </tr>\n",
       "    <tr>\n",
       "      <th>max</th>\n",
       "      <td>4.022198e+06</td>\n",
       "      <td>2.306973e+06</td>\n",
       "      <td>848096.000000</td>\n",
       "      <td>2.634499e+07</td>\n",
       "      <td>134017.000000</td>\n",
       "    </tr>\n",
       "  </tbody>\n",
       "</table>\n",
       "</div>"
      ],
      "text/plain": [
       "       num_statuses    no_of_favs    num_friends  num_followers  retweet_count\n",
       "count  2.283170e+05  2.283170e+05  228317.000000   2.283170e+05  228317.000000\n",
       "mean   6.188206e+04  5.168811e+04    2432.667502   6.588377e+03   11677.025232\n",
       "std    1.082517e+05  8.770380e+04    6420.233816   1.518730e+05   25649.498991\n",
       "min    1.000000e+00  0.000000e+00       0.000000   0.000000e+00       0.000000\n",
       "25%    6.661000e+03  4.521000e+03     358.000000   2.150000e+02      58.000000\n",
       "50%    2.413600e+04  1.911400e+04     911.000000   6.890000e+02    1341.000000\n",
       "75%    7.133800e+04  6.019600e+04    2562.000000   2.297000e+03    8414.000000\n",
       "max    4.022198e+06  2.306973e+06  848096.000000   2.634499e+07  134017.000000"
      ]
     },
     "execution_count": 5,
     "metadata": {},
     "output_type": "execute_result"
    }
   ],
   "source": [
    "data.info()\n",
    "data.describe()"
   ]
  },
  {
   "cell_type": "code",
   "execution_count": 6,
   "metadata": {},
   "outputs": [
    {
     "data": {
      "text/plain": [
       "<matplotlib.axes._subplots.AxesSubplot at 0x1ab04ab1e48>"
      ]
     },
     "execution_count": 6,
     "metadata": {},
     "output_type": "execute_result"
    },
    {
     "data": {
      "image/png": "[encoded data removed]",
      "text/plain": [
       "<Figure size 432x288 with 1 Axes>"
      ]
     },
     "metadata": {
      "needs_background": "light"
     },
     "output_type": "display_data"
    }
   ],
   "source": [
    "# Visualize missing values\n",
    "\n",
    "sns.heatmap(data.isnull(), cbar=False, cmap='viridis', yticklabels=False)"
   ]
  },
  {
   "cell_type": "code",
   "execution_count": 7,
   "metadata": {},
   "outputs": [
    {
     "data": {
      "text/plain": [
       "Index(['user', 'num_statuses', 'no_of_favs', 'num_friends',\n",
       "       'self_reported_location', 'num_followers', 'time_date', 'full_text',\n",
       "       'in_reply_to_screen_name', 'retweet_count', 'quoted_status_permalink',\n",
       "       'user_lang'],\n",
       "      dtype='object')"
      ]
     },
     "execution_count": 7,
     "metadata": {},
     "output_type": "execute_result"
    }
   ],
   "source": [
    "data.columns"
   ]
  },
  {
   "cell_type": "code",
   "execution_count": 8,
   "metadata": {},
   "outputs": [],
   "source": [
    "# Drop some columns\n",
    "\n",
    "data2 = data.drop(['self_reported_location', 'in_reply_to_screen_name',\n",
    "                   'quoted_status_permalink'], axis =1)"
   ]
  },
  {
   "cell_type": "code",
   "execution_count": 9,
   "metadata": {},
   "outputs": [],
   "source": [
    "# Add new features from datetime stamp.\n",
    "# We focus only on the hour of the day, since all tweets are from the same date.month.year\n",
    "\n",
    "def extract_hour(x):\n",
    "    hour = pd.DatetimeIndex(x).hour\n",
    "    return hour"
   ]
  },
  {
   "cell_type": "code",
   "execution_count": 10,
   "metadata": {},
   "outputs": [],
   "source": [
    "# Add new feature to dataframe\n",
    "\n",
    "data2['hours'] = extract_hour(data2['time_date'])"
   ]
  },
  {
   "cell_type": "code",
   "execution_count": 11,
   "metadata": {},
   "outputs": [
    {
     "data": {
      "text/html": [
       "<div>\n",
       "<style scoped>\n",
       "    .dataframe tbody tr th:only-of-type {\n",
       "        vertical-align: middle;\n",
       "    }\n",
       "\n",
       "    .dataframe tbody tr th {\n",
       "        vertical-align: top;\n",
       "    }\n",
       "\n",
       "    .dataframe thead th {\n",
       "        text-align: right;\n",
       "    }\n",
       "</style>\n",
       "<table border=\"1\" class=\"dataframe\">\n",
       "  <thead>\n",
       "    <tr style=\"text-align: right;\">\n",
       "      <th></th>\n",
       "      <th>user</th>\n",
       "      <th>num_statuses</th>\n",
       "      <th>no_of_favs</th>\n",
       "      <th>num_friends</th>\n",
       "      <th>num_followers</th>\n",
       "      <th>time_date</th>\n",
       "      <th>full_text</th>\n",
       "      <th>retweet_count</th>\n",
       "      <th>user_lang</th>\n",
       "      <th>hours</th>\n",
       "    </tr>\n",
       "  </thead>\n",
       "  <tbody>\n",
       "    <tr>\n",
       "      <th>0</th>\n",
       "      <td>Ch3rv6</td>\n",
       "      <td>36</td>\n",
       "      <td>10</td>\n",
       "      <td>14</td>\n",
       "      <td>0</td>\n",
       "      <td>2017-08-14 10:28:09+00:00</td>\n",
       "      <td>@Junkbot_K The justification of political viol...</td>\n",
       "      <td>0</td>\n",
       "      <td>en</td>\n",
       "      <td>10</td>\n",
       "    </tr>\n",
       "    <tr>\n",
       "      <th>1</th>\n",
       "      <td>sara31773</td>\n",
       "      <td>290</td>\n",
       "      <td>101</td>\n",
       "      <td>93</td>\n",
       "      <td>0</td>\n",
       "      <td>2017-08-14 03:57:51+00:00</td>\n",
       "      <td>@realDonaldTrump In your name she is dead.  Yo...</td>\n",
       "      <td>0</td>\n",
       "      <td>en</td>\n",
       "      <td>3</td>\n",
       "    </tr>\n",
       "  </tbody>\n",
       "</table>\n",
       "</div>"
      ],
      "text/plain": [
       "        user  num_statuses  no_of_favs  num_friends  num_followers  \\\n",
       "0     Ch3rv6            36          10           14              0   \n",
       "1  sara31773           290         101           93              0   \n",
       "\n",
       "                   time_date  \\\n",
       "0  2017-08-14 10:28:09+00:00   \n",
       "1  2017-08-14 03:57:51+00:00   \n",
       "\n",
       "                                           full_text  retweet_count user_lang  \\\n",
       "0  @Junkbot_K The justification of political viol...              0        en   \n",
       "1  @realDonaldTrump In your name she is dead.  Yo...              0        en   \n",
       "\n",
       "   hours  \n",
       "0     10  \n",
       "1      3  "
      ]
     },
     "execution_count": 11,
     "metadata": {},
     "output_type": "execute_result"
    }
   ],
   "source": [
    "data2.head(2)"
   ]
  },
  {
   "cell_type": "code",
   "execution_count": 56,
   "metadata": {},
   "outputs": [
    {
     "data": {
      "image/png": "[encoded data removed]",
      "text/plain": [
       "<Figure size 864x504 with 1 Axes>"
      ]
     },
     "metadata": {},
     "output_type": "display_data"
    }
   ],
   "source": [
    "\n",
    "sns.set_style(style='whitegrid')\n",
    "plt.figure(figsize=(12, 7))\n",
    "sns.countplot(data2['hours'], palette='inferno_r')\n",
    "plt.savefig(\"Tweets_by_hour.png\")"
   ]
  },
  {
   "cell_type": "code",
   "execution_count": 32,
   "metadata": {},
   "outputs": [
    {
     "data": {
      "text/plain": [
       "<matplotlib.axes._subplots.AxesSubplot at 0x1ab0e1a71c8>"
      ]
     },
     "execution_count": 32,
     "metadata": {},
     "output_type": "execute_result"
    },
    {
     "data": {
      "image/png": "[encoded data removed]",
      "text/plain": [
       "<Figure size 432x288 with 2 Axes>"
      ]
     },
     "metadata": {
      "needs_background": "light"
     },
     "output_type": "display_data"
    }
   ],
   "source": [
    "sns.heatmap(data2.isnull(), cmap='viridis', yticklabels=False)"
   ]
  },
  {
   "cell_type": "code",
   "execution_count": 37,
   "metadata": {},
   "outputs": [
    {
     "data": {
      "text/html": [
       "<div>\n",
       "<style scoped>\n",
       "    .dataframe tbody tr th:only-of-type {\n",
       "        vertical-align: middle;\n",
       "    }\n",
       "\n",
       "    .dataframe tbody tr th {\n",
       "        vertical-align: top;\n",
       "    }\n",
       "\n",
       "    .dataframe thead th {\n",
       "        text-align: right;\n",
       "    }\n",
       "</style>\n",
       "<table border=\"1\" class=\"dataframe\">\n",
       "  <thead>\n",
       "    <tr style=\"text-align: right;\">\n",
       "      <th></th>\n",
       "      <th>user</th>\n",
       "      <th>num_statuses</th>\n",
       "      <th>no_of_favs</th>\n",
       "      <th>num_friends</th>\n",
       "      <th>num_followers</th>\n",
       "      <th>time_date</th>\n",
       "      <th>full_text</th>\n",
       "      <th>retweet_count</th>\n",
       "      <th>user_lang</th>\n",
       "      <th>hours</th>\n",
       "    </tr>\n",
       "  </thead>\n",
       "  <tbody>\n",
       "    <tr>\n",
       "      <th>227946</th>\n",
       "      <td>oldgee11</td>\n",
       "      <td>830</td>\n",
       "      <td>919</td>\n",
       "      <td>112</td>\n",
       "      <td>15</td>\n",
       "      <td>2017-08-14 14:08:37+00:00</td>\n",
       "      <td>I don't know her name but I got a new crush. 😍</td>\n",
       "      <td>0</td>\n",
       "      <td>NaN</td>\n",
       "      <td>14</td>\n",
       "    </tr>\n",
       "    <tr>\n",
       "      <th>227947</th>\n",
       "      <td>TheBlindSage1</td>\n",
       "      <td>8922</td>\n",
       "      <td>33</td>\n",
       "      <td>624</td>\n",
       "      <td>34</td>\n",
       "      <td>2017-08-14 16:26:09+00:00</td>\n",
       "      <td>RT @20committee: EXCLUSIVE:</td>\n",
       "      <td>0</td>\n",
       "      <td>NaN</td>\n",
       "      <td>16</td>\n",
       "    </tr>\n",
       "    <tr>\n",
       "      <th>227948</th>\n",
       "      <td>jcalla05</td>\n",
       "      <td>9558</td>\n",
       "      <td>3364</td>\n",
       "      <td>740</td>\n",
       "      <td>40</td>\n",
       "      <td>2017-08-14 16:22:06+00:00</td>\n",
       "      <td>RT @20committee: EXCLUSIVE:</td>\n",
       "      <td>0</td>\n",
       "      <td>NaN</td>\n",
       "      <td>16</td>\n",
       "    </tr>\n",
       "    <tr>\n",
       "      <th>227949</th>\n",
       "      <td>drizzzyDeLa</td>\n",
       "      <td>5311</td>\n",
       "      <td>19020</td>\n",
       "      <td>222</td>\n",
       "      <td>40</td>\n",
       "      <td>2017-08-14 15:31:02+00:00</td>\n",
       "      <td>RT @20committee: EXCLUSIVE:</td>\n",
       "      <td>0</td>\n",
       "      <td>NaN</td>\n",
       "      <td>15</td>\n",
       "    </tr>\n",
       "    <tr>\n",
       "      <th>227950</th>\n",
       "      <td>ephirZ</td>\n",
       "      <td>7527</td>\n",
       "      <td>9350</td>\n",
       "      <td>50</td>\n",
       "      <td>47</td>\n",
       "      <td>2017-08-14 15:35:42+00:00</td>\n",
       "      <td>RT @20committee: EXCLUSIVE:</td>\n",
       "      <td>0</td>\n",
       "      <td>NaN</td>\n",
       "      <td>15</td>\n",
       "    </tr>\n",
       "    <tr>\n",
       "      <th>...</th>\n",
       "      <td>...</td>\n",
       "      <td>...</td>\n",
       "      <td>...</td>\n",
       "      <td>...</td>\n",
       "      <td>...</td>\n",
       "      <td>...</td>\n",
       "      <td>...</td>\n",
       "      <td>...</td>\n",
       "      <td>...</td>\n",
       "      <td>...</td>\n",
       "    </tr>\n",
       "    <tr>\n",
       "      <th>228312</th>\n",
       "      <td>MelissaJPeltier</td>\n",
       "      <td>434045</td>\n",
       "      <td>621350</td>\n",
       "      <td>9689</td>\n",
       "      <td>47809</td>\n",
       "      <td>2017-08-14 04:43:36+00:00</td>\n",
       "      <td>RT @20committee: Guy was just shot &amp;amp; nearl...</td>\n",
       "      <td>0</td>\n",
       "      <td>NaN</td>\n",
       "      <td>4</td>\n",
       "    </tr>\n",
       "    <tr>\n",
       "      <th>228313</th>\n",
       "      <td>MelissaJPeltier</td>\n",
       "      <td>433974</td>\n",
       "      <td>621126</td>\n",
       "      <td>9689</td>\n",
       "      <td>47817</td>\n",
       "      <td>2017-08-14 15:28:25+00:00</td>\n",
       "      <td>RT @20committee: EXCLUSIVE:</td>\n",
       "      <td>0</td>\n",
       "      <td>NaN</td>\n",
       "      <td>15</td>\n",
       "    </tr>\n",
       "    <tr>\n",
       "      <th>228314</th>\n",
       "      <td>DrDenaGrayson</td>\n",
       "      <td>61870</td>\n",
       "      <td>154928</td>\n",
       "      <td>328</td>\n",
       "      <td>196289</td>\n",
       "      <td>2017-08-14 15:51:31+00:00</td>\n",
       "      <td>RT @20committee: EXCLUSIVE:</td>\n",
       "      <td>0</td>\n",
       "      <td>NaN</td>\n",
       "      <td>15</td>\n",
       "    </tr>\n",
       "    <tr>\n",
       "      <th>228315</th>\n",
       "      <td>GreatDismal</td>\n",
       "      <td>172901</td>\n",
       "      <td>2350</td>\n",
       "      <td>258</td>\n",
       "      <td>259033</td>\n",
       "      <td>2017-08-14 15:49:51+00:00</td>\n",
       "      <td>RT @20committee: EXCLUSIVE:</td>\n",
       "      <td>0</td>\n",
       "      <td>NaN</td>\n",
       "      <td>15</td>\n",
       "    </tr>\n",
       "    <tr>\n",
       "      <th>228316</th>\n",
       "      <td>20committee</td>\n",
       "      <td>190412</td>\n",
       "      <td>172928</td>\n",
       "      <td>2324</td>\n",
       "      <td>274138</td>\n",
       "      <td>2017-08-14 15:27:51+00:00</td>\n",
       "      <td>EXCLUSIVE:</td>\n",
       "      <td>0</td>\n",
       "      <td>NaN</td>\n",
       "      <td>15</td>\n",
       "    </tr>\n",
       "  </tbody>\n",
       "</table>\n",
       "<p>371 rows × 10 columns</p>\n",
       "</div>"
      ],
      "text/plain": [
       "                   user  num_statuses  no_of_favs  num_friends  num_followers  \\\n",
       "227946         oldgee11           830         919          112             15   \n",
       "227947    TheBlindSage1          8922          33          624             34   \n",
       "227948         jcalla05          9558        3364          740             40   \n",
       "227949      drizzzyDeLa          5311       19020          222             40   \n",
       "227950           ephirZ          7527        9350           50             47   \n",
       "...                 ...           ...         ...          ...            ...   \n",
       "228312  MelissaJPeltier        434045      621350         9689          47809   \n",
       "228313  MelissaJPeltier        433974      621126         9689          47817   \n",
       "228314    DrDenaGrayson         61870      154928          328         196289   \n",
       "228315      GreatDismal        172901        2350          258         259033   \n",
       "228316      20committee        190412      172928         2324         274138   \n",
       "\n",
       "                        time_date  \\\n",
       "227946  2017-08-14 14:08:37+00:00   \n",
       "227947  2017-08-14 16:26:09+00:00   \n",
       "227948  2017-08-14 16:22:06+00:00   \n",
       "227949  2017-08-14 15:31:02+00:00   \n",
       "227950  2017-08-14 15:35:42+00:00   \n",
       "...                           ...   \n",
       "228312  2017-08-14 04:43:36+00:00   \n",
       "228313  2017-08-14 15:28:25+00:00   \n",
       "228314  2017-08-14 15:51:31+00:00   \n",
       "228315  2017-08-14 15:49:51+00:00   \n",
       "228316  2017-08-14 15:27:51+00:00   \n",
       "\n",
       "                                                full_text  retweet_count  \\\n",
       "227946     I don't know her name but I got a new crush. 😍              0   \n",
       "227947                       RT @20committee: EXCLUSIVE:               0   \n",
       "227948                       RT @20committee: EXCLUSIVE:               0   \n",
       "227949                       RT @20committee: EXCLUSIVE:               0   \n",
       "227950                       RT @20committee: EXCLUSIVE:               0   \n",
       "...                                                   ...            ...   \n",
       "228312  RT @20committee: Guy was just shot &amp; nearl...              0   \n",
       "228313                       RT @20committee: EXCLUSIVE:               0   \n",
       "228314                       RT @20committee: EXCLUSIVE:               0   \n",
       "228315                       RT @20committee: EXCLUSIVE:               0   \n",
       "228316                                        EXCLUSIVE:               0   \n",
       "\n",
       "       user_lang  hours  \n",
       "227946       NaN     14  \n",
       "227947       NaN     16  \n",
       "227948       NaN     16  \n",
       "227949       NaN     15  \n",
       "227950       NaN     15  \n",
       "...          ...    ...  \n",
       "228312       NaN      4  \n",
       "228313       NaN     15  \n",
       "228314       NaN     15  \n",
       "228315       NaN     15  \n",
       "228316       NaN     15  \n",
       "\n",
       "[371 rows x 10 columns]"
      ]
     },
     "execution_count": 37,
     "metadata": {},
     "output_type": "execute_result"
    }
   ],
   "source": [
    "# sns.countplot(data2.user_lang)\n",
    "# There are some missing values in the 'user_lang' column\n",
    "# I tried to check what language the tweets were written in, if english, then I fill then up as 'en'\n",
    "\n",
    "data2[data2['user_lang'] != 'en']"
   ]
  },
  {
   "cell_type": "code",
   "execution_count": 42,
   "metadata": {},
   "outputs": [],
   "source": [
    "data2['user_lang'].fillna(value='en', inplace=True)"
   ]
  },
  {
   "cell_type": "code",
   "execution_count": 43,
   "metadata": {},
   "outputs": [
    {
     "data": {
      "text/plain": [
       "0         en\n",
       "1         en\n",
       "2         en\n",
       "3         en\n",
       "4         en\n",
       "          ..\n",
       "228312    en\n",
       "228313    en\n",
       "228314    en\n",
       "228315    en\n",
       "228316    en\n",
       "Name: user_lang, Length: 228317, dtype: object"
      ]
     },
     "execution_count": 43,
     "metadata": {},
     "output_type": "execute_result"
    }
   ],
   "source": [
    "data2['user_lang']"
   ]
  },
  {
   "cell_type": "code",
   "execution_count": null,
   "metadata": {},
   "outputs": [],
   "source": []
  },
  {
   "cell_type": "code",
   "execution_count": 57,
   "metadata": {},
   "outputs": [
    {
     "data": {
      "text/html": [
       "<div>\n",
       "<style scoped>\n",
       "    .dataframe tbody tr th:only-of-type {\n",
       "        vertical-align: middle;\n",
       "    }\n",
       "\n",
       "    .dataframe tbody tr th {\n",
       "        vertical-align: top;\n",
       "    }\n",
       "\n",
       "    .dataframe thead th {\n",
       "        text-align: right;\n",
       "    }\n",
       "</style>\n",
       "<table border=\"1\" class=\"dataframe\">\n",
       "  <thead>\n",
       "    <tr style=\"text-align: right;\">\n",
       "      <th></th>\n",
       "      <th>num_statuses</th>\n",
       "      <th>no_of_favs</th>\n",
       "      <th>num_friends</th>\n",
       "      <th>num_followers</th>\n",
       "      <th>retweet_count</th>\n",
       "      <th>hours</th>\n",
       "    </tr>\n",
       "  </thead>\n",
       "  <tbody>\n",
       "    <tr>\n",
       "      <th>0</th>\n",
       "      <td>36</td>\n",
       "      <td>10</td>\n",
       "      <td>14</td>\n",
       "      <td>0</td>\n",
       "      <td>0</td>\n",
       "      <td>10</td>\n",
       "    </tr>\n",
       "    <tr>\n",
       "      <th>1</th>\n",
       "      <td>290</td>\n",
       "      <td>101</td>\n",
       "      <td>93</td>\n",
       "      <td>0</td>\n",
       "      <td>0</td>\n",
       "      <td>3</td>\n",
       "    </tr>\n",
       "  </tbody>\n",
       "</table>\n",
       "</div>"
      ],
      "text/plain": [
       "   num_statuses  no_of_favs  num_friends  num_followers  retweet_count  hours\n",
       "0            36          10           14              0              0     10\n",
       "1           290         101           93              0              0      3"
      ]
     },
     "execution_count": 57,
     "metadata": {},
     "output_type": "execute_result"
    }
   ],
   "source": [
    "# Drop non-numerical features\n",
    "\n",
    "\n",
    "df = data2.drop(['user','full_text','time_date', 'user_lang'], axis=1)\n",
    "df.head(2)"
   ]
  },
  {
   "cell_type": "code",
   "execution_count": null,
   "metadata": {},
   "outputs": [],
   "source": []
  },
  {
   "cell_type": "code",
   "execution_count": 58,
   "metadata": {},
   "outputs": [
    {
     "data": {
      "text/plain": [
       "<seaborn.axisgrid.PairGrid at 0x1ab0e8afd08>"
      ]
     },
     "execution_count": 58,
     "metadata": {},
     "output_type": "execute_result"
    },
    {
     "data": {
      "image/png": "[encoded data removed]",
      "text/plain": [
       "<Figure size 1080x1080 with 42 Axes>"
      ]
     },
     "metadata": {},
     "output_type": "display_data"
    }
   ],
   "source": [
    "sns.pairplot(df)\n",
    "# Which pair of features correlate"
   ]
  },
  {
   "cell_type": "markdown",
   "metadata": {},
   "source": [
    "###### The discrete numbers making up the values of thecolumns makes the plot above less useful"
   ]
  },
  {
   "cell_type": "code",
   "execution_count": 113,
   "metadata": {},
   "outputs": [
    {
     "data": {
      "text/html": [
       "<div>\n",
       "<style scoped>\n",
       "    .dataframe tbody tr th:only-of-type {\n",
       "        vertical-align: middle;\n",
       "    }\n",
       "\n",
       "    .dataframe tbody tr th {\n",
       "        vertical-align: top;\n",
       "    }\n",
       "\n",
       "    .dataframe thead th {\n",
       "        text-align: right;\n",
       "    }\n",
       "</style>\n",
       "<table border=\"1\" class=\"dataframe\">\n",
       "  <thead>\n",
       "    <tr style=\"text-align: right;\">\n",
       "      <th></th>\n",
       "      <th>num_statuses</th>\n",
       "      <th>no_of_favs</th>\n",
       "      <th>num_friends</th>\n",
       "      <th>num_followers</th>\n",
       "      <th>retweet_count</th>\n",
       "      <th>hours</th>\n",
       "      <th>en</th>\n",
       "    </tr>\n",
       "  </thead>\n",
       "  <tbody>\n",
       "    <tr>\n",
       "      <th>num_statuses</th>\n",
       "      <td>1.000000</td>\n",
       "      <td>0.550782</td>\n",
       "      <td>0.265425</td>\n",
       "      <td>0.051524</td>\n",
       "      <td>-0.110152</td>\n",
       "      <td>-0.005260</td>\n",
       "      <td>-0.016771</td>\n",
       "    </tr>\n",
       "    <tr>\n",
       "      <th>no_of_favs</th>\n",
       "      <td>0.550782</td>\n",
       "      <td>1.000000</td>\n",
       "      <td>0.206400</td>\n",
       "      <td>-0.001438</td>\n",
       "      <td>-0.090232</td>\n",
       "      <td>-0.025868</td>\n",
       "      <td>-0.024861</td>\n",
       "    </tr>\n",
       "    <tr>\n",
       "      <th>num_friends</th>\n",
       "      <td>0.265425</td>\n",
       "      <td>0.206400</td>\n",
       "      <td>1.000000</td>\n",
       "      <td>0.059152</td>\n",
       "      <td>-0.080805</td>\n",
       "      <td>0.009483</td>\n",
       "      <td>-0.001927</td>\n",
       "    </tr>\n",
       "    <tr>\n",
       "      <th>num_followers</th>\n",
       "      <td>0.051524</td>\n",
       "      <td>-0.001438</td>\n",
       "      <td>0.059152</td>\n",
       "      <td>1.000000</td>\n",
       "      <td>-0.013991</td>\n",
       "      <td>0.008045</td>\n",
       "      <td>0.000402</td>\n",
       "    </tr>\n",
       "    <tr>\n",
       "      <th>retweet_count</th>\n",
       "      <td>-0.110152</td>\n",
       "      <td>-0.090232</td>\n",
       "      <td>-0.080805</td>\n",
       "      <td>-0.013991</td>\n",
       "      <td>1.000000</td>\n",
       "      <td>-0.069239</td>\n",
       "      <td>0.018366</td>\n",
       "    </tr>\n",
       "    <tr>\n",
       "      <th>hours</th>\n",
       "      <td>-0.005260</td>\n",
       "      <td>-0.025868</td>\n",
       "      <td>0.009483</td>\n",
       "      <td>0.008045</td>\n",
       "      <td>-0.069239</td>\n",
       "      <td>1.000000</td>\n",
       "      <td>-0.039577</td>\n",
       "    </tr>\n",
       "    <tr>\n",
       "      <th>en</th>\n",
       "      <td>-0.016771</td>\n",
       "      <td>-0.024861</td>\n",
       "      <td>-0.001927</td>\n",
       "      <td>0.000402</td>\n",
       "      <td>0.018366</td>\n",
       "      <td>-0.039577</td>\n",
       "      <td>1.000000</td>\n",
       "    </tr>\n",
       "  </tbody>\n",
       "</table>\n",
       "</div>"
      ],
      "text/plain": [
       "               num_statuses  no_of_favs  num_friends  num_followers  \\\n",
       "num_statuses       1.000000    0.550782     0.265425       0.051524   \n",
       "no_of_favs         0.550782    1.000000     0.206400      -0.001438   \n",
       "num_friends        0.265425    0.206400     1.000000       0.059152   \n",
       "num_followers      0.051524   -0.001438     0.059152       1.000000   \n",
       "retweet_count     -0.110152   -0.090232    -0.080805      -0.013991   \n",
       "hours             -0.005260   -0.025868     0.009483       0.008045   \n",
       "en                -0.016771   -0.024861    -0.001927       0.000402   \n",
       "\n",
       "               retweet_count     hours        en  \n",
       "num_statuses       -0.110152 -0.005260 -0.016771  \n",
       "no_of_favs         -0.090232 -0.025868 -0.024861  \n",
       "num_friends        -0.080805  0.009483 -0.001927  \n",
       "num_followers      -0.013991  0.008045  0.000402  \n",
       "retweet_count       1.000000 -0.069239  0.018366  \n",
       "hours              -0.069239  1.000000 -0.039577  \n",
       "en                  0.018366 -0.039577  1.000000  "
      ]
     },
     "execution_count": 113,
     "metadata": {},
     "output_type": "execute_result"
    }
   ],
   "source": [
    "df.corr()"
   ]
  },
  {
   "cell_type": "code",
   "execution_count": null,
   "metadata": {},
   "outputs": [],
   "source": []
  },
  {
   "cell_type": "code",
   "execution_count": null,
   "metadata": {},
   "outputs": [],
   "source": []
  },
  {
   "cell_type": "markdown",
   "metadata": {},
   "source": [
    "### PCA\n",
    "I dont know if PCA is neccessary in this case since we do no have many features, but I still go ahead to do it, just incase"
   ]
  },
  {
   "cell_type": "code",
   "execution_count": 59,
   "metadata": {},
   "outputs": [],
   "source": [
    "# Preprocessing\n",
    "\n",
    "from sklearn.preprocessing import StandardScaler"
   ]
  },
  {
   "cell_type": "code",
   "execution_count": 61,
   "metadata": {},
   "outputs": [
    {
     "data": {
      "text/plain": [
       "StandardScaler(copy=True, with_mean=True, with_std=True)"
      ]
     },
     "execution_count": 61,
     "metadata": {},
     "output_type": "execute_result"
    }
   ],
   "source": [
    "scaler = StandardScaler()\n",
    "scaler.fit(df)"
   ]
  },
  {
   "cell_type": "code",
   "execution_count": 62,
   "metadata": {},
   "outputs": [],
   "source": [
    "scale_df = scaler.transform(df)"
   ]
  },
  {
   "cell_type": "code",
   "execution_count": 64,
   "metadata": {},
   "outputs": [],
   "source": [
    "# scale_df"
   ]
  },
  {
   "cell_type": "code",
   "execution_count": 69,
   "metadata": {},
   "outputs": [],
   "source": [
    "# PCA  #"
   ]
  },
  {
   "cell_type": "code",
   "execution_count": 65,
   "metadata": {},
   "outputs": [],
   "source": [
    "from sklearn.decomposition import PCA"
   ]
  },
  {
   "cell_type": "code",
   "execution_count": 67,
   "metadata": {},
   "outputs": [],
   "source": [
    "pca = PCA(n_components=2)"
   ]
  },
  {
   "cell_type": "code",
   "execution_count": 68,
   "metadata": {},
   "outputs": [
    {
     "data": {
      "text/plain": [
       "PCA(copy=True, iterated_power='auto', n_components=2, random_state=None,\n",
       "    svd_solver='auto', tol=0.0, whiten=False)"
      ]
     },
     "execution_count": 68,
     "metadata": {},
     "output_type": "execute_result"
    }
   ],
   "source": [
    "pca.fit(scale_df)"
   ]
  },
  {
   "cell_type": "code",
   "execution_count": 70,
   "metadata": {},
   "outputs": [],
   "source": [
    "# transform this data into its principal components\n",
    "\n",
    "i_pca = pca.transform(scale_df)"
   ]
  },
  {
   "cell_type": "code",
   "execution_count": 102,
   "metadata": {},
   "outputs": [
    {
     "data": {
      "text/plain": [
       "(228317, 2)"
      ]
     },
     "execution_count": 102,
     "metadata": {},
     "output_type": "execute_result"
    }
   ],
   "source": [
    "# check shape\n",
    "\n",
    "# scale_df.shape\n",
    "i_pca.shape"
   ]
  },
  {
   "cell_type": "code",
   "execution_count": 117,
   "metadata": {},
   "outputs": [
    {
     "data": {
      "text/plain": [
       "(228317, 2)"
      ]
     },
     "execution_count": 117,
     "metadata": {},
     "output_type": "execute_result"
    }
   ],
   "source": [
    "# type(i_pca)\n",
    "i_pca"
   ]
  },
  {
   "cell_type": "code",
   "execution_count": 78,
   "metadata": {},
   "outputs": [
    {
     "data": {
      "text/plain": [
       "Text(0, 0.5, 'Principal Component B')"
      ]
     },
     "execution_count": 78,
     "metadata": {},
     "output_type": "execute_result"
    },
    {
     "data": {
      "image/png": "[encoded data removed]",
      "text/plain": [
       "<Figure size 720x576 with 1 Axes>"
      ]
     },
     "metadata": {},
     "output_type": "display_data"
    }
   ],
   "source": [
    "# Visualize the correlation\n",
    "\n",
    "plt.figure(figsize=(10,8))\n",
    "plt.scatter(i_pca[:,0], i_pca[:,1])\n",
    "plt.xlabel(\"Principal Component A\")\n",
    "plt.ylabel(\"Principal Component B\")\n"
   ]
  },
  {
   "cell_type": "markdown",
   "metadata": {},
   "source": [
    "###### To be honest, I don't know how to interpret the above. But I guess it simply means clustering (as against classification) will be the better method"
   ]
  },
  {
   "cell_type": "code",
   "execution_count": null,
   "metadata": {},
   "outputs": [],
   "source": []
  },
  {
   "cell_type": "markdown",
   "metadata": {},
   "source": [
    "###### Corresponding the PrincComps with original features"
   ]
  },
  {
   "cell_type": "code",
   "execution_count": 79,
   "metadata": {},
   "outputs": [
    {
     "data": {
      "text/plain": [
       "array([[ 6.33379068e-01,  6.07707410e-01,  4.21433235e-01,\n",
       "         7.97145172e-02, -2.13452679e-01,  4.88195258e-04],\n",
       "       [-1.00941917e-01, -1.70301601e-01,  6.69320486e-02,\n",
       "         2.14730323e-01, -5.70290967e-01,  7.64844622e-01]])"
      ]
     },
     "execution_count": 79,
     "metadata": {},
     "output_type": "execute_result"
    }
   ],
   "source": [
    "pca.components_"
   ]
  },
  {
   "cell_type": "code",
   "execution_count": 80,
   "metadata": {},
   "outputs": [],
   "source": [
    "df2 = pd.DataFrame(pca.components_, columns=df.columns)"
   ]
  },
  {
   "cell_type": "code",
   "execution_count": 81,
   "metadata": {},
   "outputs": [
    {
     "data": {
      "text/html": [
       "<div>\n",
       "<style scoped>\n",
       "    .dataframe tbody tr th:only-of-type {\n",
       "        vertical-align: middle;\n",
       "    }\n",
       "\n",
       "    .dataframe tbody tr th {\n",
       "        vertical-align: top;\n",
       "    }\n",
       "\n",
       "    .dataframe thead th {\n",
       "        text-align: right;\n",
       "    }\n",
       "</style>\n",
       "<table border=\"1\" class=\"dataframe\">\n",
       "  <thead>\n",
       "    <tr style=\"text-align: right;\">\n",
       "      <th></th>\n",
       "      <th>num_statuses</th>\n",
       "      <th>no_of_favs</th>\n",
       "      <th>num_friends</th>\n",
       "      <th>num_followers</th>\n",
       "      <th>retweet_count</th>\n",
       "      <th>hours</th>\n",
       "    </tr>\n",
       "  </thead>\n",
       "  <tbody>\n",
       "    <tr>\n",
       "      <th>0</th>\n",
       "      <td>0.633379</td>\n",
       "      <td>0.607707</td>\n",
       "      <td>0.421433</td>\n",
       "      <td>0.079715</td>\n",
       "      <td>-0.213453</td>\n",
       "      <td>0.000488</td>\n",
       "    </tr>\n",
       "    <tr>\n",
       "      <th>1</th>\n",
       "      <td>-0.100942</td>\n",
       "      <td>-0.170302</td>\n",
       "      <td>0.066932</td>\n",
       "      <td>0.214730</td>\n",
       "      <td>-0.570291</td>\n",
       "      <td>0.764845</td>\n",
       "    </tr>\n",
       "  </tbody>\n",
       "</table>\n",
       "</div>"
      ],
      "text/plain": [
       "   num_statuses  no_of_favs  num_friends  num_followers  retweet_count  \\\n",
       "0      0.633379    0.607707     0.421433       0.079715      -0.213453   \n",
       "1     -0.100942   -0.170302     0.066932       0.214730      -0.570291   \n",
       "\n",
       "      hours  \n",
       "0  0.000488  \n",
       "1  0.764845  "
      ]
     },
     "execution_count": 81,
     "metadata": {},
     "output_type": "execute_result"
    }
   ],
   "source": [
    "df2"
   ]
  },
  {
   "cell_type": "markdown",
   "metadata": {},
   "source": [
    "##### The strength of the correlations can be better seen with heatmap plotting"
   ]
  },
  {
   "cell_type": "code",
   "execution_count": 98,
   "metadata": {},
   "outputs": [
    {
     "data": {
      "image/png": "[encoded data removed]",
      "text/plain": [
       "<Figure size 864x504 with 2 Axes>"
      ]
     },
     "metadata": {},
     "output_type": "display_data"
    }
   ],
   "source": [
    "plt.figure(figsize=(12, 7))\n",
    "\n",
    "sns.heatmap(df2,cmap='plasma')\n",
    "plt.savefig(\"PCA Heatmap.png\")"
   ]
  },
  {
   "cell_type": "markdown",
   "metadata": {},
   "source": [
    "###### Hour of the day, number of statuses, num of favourites ONLY???"
   ]
  },
  {
   "cell_type": "code",
   "execution_count": null,
   "metadata": {},
   "outputs": [],
   "source": []
  },
  {
   "cell_type": "code",
   "execution_count": 196,
   "metadata": {},
   "outputs": [],
   "source": [
    "from sklearn.cluster import KMeans"
   ]
  },
  {
   "cell_type": "code",
   "execution_count": 197,
   "metadata": {},
   "outputs": [
    {
     "data": {
      "image/png": "[encoded data removed]",
      "text/plain": [
       "<Figure size 432x288 with 1 Axes>"
      ]
     },
     "metadata": {},
     "output_type": "display_data"
    }
   ],
   "source": [
    "# Using the Elbow method to search for optimal K-Value\n",
    "\n",
    "wcss = []\n",
    "for i in range(1, 11):\n",
    "    kmeans = KMeans(n_clusters=i, init='k-means++', max_iter=300, n_init=10, random_state=0)\n",
    "    kmeans.fit(i_pca)\n",
    "    wcss.append(kmeans.inertia_)\n",
    "plt.plot(range(1, 11), wcss)\n",
    "plt.title('Elbow Method')\n",
    "plt.xlabel('Number of clusters')\n",
    "plt.ylabel('WCSS')\n",
    "plt.show()"
   ]
  },
  {
   "cell_type": "markdown",
   "metadata": {},
   "source": [
    "###### I determined 4 to be the ideal/optimum value of clusters"
   ]
  },
  {
   "cell_type": "code",
   "execution_count": 198,
   "metadata": {},
   "outputs": [],
   "source": [
    "# kmeans = KMeans(n_clusters=2)\n",
    "# kmeans = KMeans(n_clusters=3)\n",
    "kmeans = KMeans(n_clusters=4)\n",
    "# kmeans = KMeans(n_clusters=5)\n",
    "# kmeans = KMeans(n_clusters=6)\n",
    "# kmeans = KMeans(n_clusters=7)\n",
    "# kmeans = KMeans(n_clusters=8)"
   ]
  },
  {
   "cell_type": "code",
   "execution_count": 199,
   "metadata": {},
   "outputs": [
    {
     "data": {
      "text/plain": [
       "KMeans(algorithm='auto', copy_x=True, init='k-means++', max_iter=300,\n",
       "       n_clusters=4, n_init=10, n_jobs=None, precompute_distances='auto',\n",
       "       random_state=None, tol=0.0001, verbose=0)"
      ]
     },
     "execution_count": 199,
     "metadata": {},
     "output_type": "execute_result"
    }
   ],
   "source": [
    "kmeans.fit(i_pca)"
   ]
  },
  {
   "cell_type": "code",
   "execution_count": 200,
   "metadata": {},
   "outputs": [
    {
     "data": {
      "text/plain": [
       "array([3, 1, 3, ..., 3, 3, 2])"
      ]
     },
     "execution_count": 200,
     "metadata": {},
     "output_type": "execute_result"
    }
   ],
   "source": [
    "kmeans.labels_"
   ]
  },
  {
   "cell_type": "code",
   "execution_count": 201,
   "metadata": {},
   "outputs": [
    {
     "data": {
      "text/plain": [
       "array([[ 5.97933188, -0.69603647],\n",
       "       [-0.54466422, -0.88503875],\n",
       "       [ 1.69500939, -0.16083548],\n",
       "       [-0.35104409,  0.82789042]])"
      ]
     },
     "execution_count": 201,
     "metadata": {},
     "output_type": "execute_result"
    }
   ],
   "source": [
    "kmeans.cluster_centers_\n",
    "# centroids"
   ]
  },
  {
   "cell_type": "code",
   "execution_count": 202,
   "metadata": {},
   "outputs": [],
   "source": [
    "# cent = kmeans.cluster_centers_\n",
    "# len(cent)"
   ]
  },
  {
   "cell_type": "code",
   "execution_count": 203,
   "metadata": {},
   "outputs": [
    {
     "data": {
      "text/plain": [
       "array([ 0.46581403, -0.7253968 ,  1.48761256, ...,  1.2392988 ,\n",
       "        1.52002172,  1.21536237])"
      ]
     },
     "execution_count": 203,
     "metadata": {},
     "output_type": "execute_result"
    }
   ],
   "source": [
    "i_pca[:,1]"
   ]
  },
  {
   "cell_type": "code",
   "execution_count": 204,
   "metadata": {},
   "outputs": [],
   "source": [
    "# plt.scatter(i_pca[:,0], i_pca[:,1],cmap='rainbow')"
   ]
  },
  {
   "cell_type": "code",
   "execution_count": 205,
   "metadata": {},
   "outputs": [
    {
     "data": {
      "text/plain": [
       "<matplotlib.collections.PathCollection at 0x1ab3bb2fd08>"
      ]
     },
     "execution_count": 205,
     "metadata": {},
     "output_type": "execute_result"
    },
    {
     "data": {
      "image/png": "[encoded data removed]",
      "text/plain": [
       "<Figure size 864x504 with 1 Axes>"
      ]
     },
     "metadata": {},
     "output_type": "display_data"
    }
   ],
   "source": [
    "plt.figure(figsize=(12,7))\n",
    "\n",
    "plt.title('K Means')\n",
    "plt.scatter(i_pca[:,0], i_pca[:,1], c=kmeans.labels_,cmap='plasma')\n"
   ]
  },
  {
   "cell_type": "markdown",
   "metadata": {},
   "source": [
    "#### SO THIS IS WHERE MY PROBLEM BEGINS: \n",
    "I tried to use the above trained model on the original PCA-treated dataframe. \n",
    "How proper or logically correct that step is I dont know. Pls tell me!\n",
    "\n",
    "My thinking is that the model can be used to predict the category each user in the original dataset would fall in. Hopefully you can help out here!"
   ]
  },
  {
   "cell_type": "code",
   "execution_count": 216,
   "metadata": {},
   "outputs": [],
   "source": [
    "y_pred = kmeans.fit_predict(df)"
   ]
  },
  {
   "cell_type": "code",
   "execution_count": 374,
   "metadata": {},
   "outputs": [
    {
     "data": {
      "text/plain": [
       "array([0, 0, 0, ..., 0, 0, 2])"
      ]
     },
     "execution_count": 374,
     "metadata": {},
     "output_type": "execute_result"
    }
   ],
   "source": [
    "# len(y_pred)\n",
    "y_pred"
   ]
  },
  {
   "cell_type": "code",
   "execution_count": 220,
   "metadata": {},
   "outputs": [],
   "source": [
    "# creating a new dataframe\n",
    "final_df = df"
   ]
  },
  {
   "cell_type": "code",
   "execution_count": 222,
   "metadata": {},
   "outputs": [],
   "source": [
    "# adding the label as a columns to dataframe\n",
    "\n",
    "final_df['label'] = y_pred"
   ]
  },
  {
   "cell_type": "code",
   "execution_count": 226,
   "metadata": {},
   "outputs": [
    {
     "data": {
      "text/html": [
       "<div>\n",
       "<style scoped>\n",
       "    .dataframe tbody tr th:only-of-type {\n",
       "        vertical-align: middle;\n",
       "    }\n",
       "\n",
       "    .dataframe tbody tr th {\n",
       "        vertical-align: top;\n",
       "    }\n",
       "\n",
       "    .dataframe thead th {\n",
       "        text-align: right;\n",
       "    }\n",
       "</style>\n",
       "<table border=\"1\" class=\"dataframe\">\n",
       "  <thead>\n",
       "    <tr style=\"text-align: right;\">\n",
       "      <th></th>\n",
       "      <th>num_statuses</th>\n",
       "      <th>no_of_favs</th>\n",
       "      <th>num_friends</th>\n",
       "      <th>num_followers</th>\n",
       "      <th>retweet_count</th>\n",
       "      <th>hours</th>\n",
       "      <th>label</th>\n",
       "    </tr>\n",
       "  </thead>\n",
       "  <tbody>\n",
       "    <tr>\n",
       "      <th>0</th>\n",
       "      <td>36</td>\n",
       "      <td>10</td>\n",
       "      <td>14</td>\n",
       "      <td>0</td>\n",
       "      <td>0</td>\n",
       "      <td>10</td>\n",
       "      <td>0</td>\n",
       "    </tr>\n",
       "    <tr>\n",
       "      <th>1</th>\n",
       "      <td>290</td>\n",
       "      <td>101</td>\n",
       "      <td>93</td>\n",
       "      <td>0</td>\n",
       "      <td>0</td>\n",
       "      <td>3</td>\n",
       "      <td>0</td>\n",
       "    </tr>\n",
       "    <tr>\n",
       "      <th>2</th>\n",
       "      <td>22</td>\n",
       "      <td>10</td>\n",
       "      <td>52</td>\n",
       "      <td>0</td>\n",
       "      <td>0</td>\n",
       "      <td>16</td>\n",
       "      <td>0</td>\n",
       "    </tr>\n",
       "    <tr>\n",
       "      <th>3</th>\n",
       "      <td>3624</td>\n",
       "      <td>2026</td>\n",
       "      <td>4</td>\n",
       "      <td>0</td>\n",
       "      <td>0</td>\n",
       "      <td>11</td>\n",
       "      <td>0</td>\n",
       "    </tr>\n",
       "    <tr>\n",
       "      <th>4</th>\n",
       "      <td>20185</td>\n",
       "      <td>12331</td>\n",
       "      <td>1</td>\n",
       "      <td>0</td>\n",
       "      <td>0</td>\n",
       "      <td>10</td>\n",
       "      <td>0</td>\n",
       "    </tr>\n",
       "    <tr>\n",
       "      <th>...</th>\n",
       "      <td>...</td>\n",
       "      <td>...</td>\n",
       "      <td>...</td>\n",
       "      <td>...</td>\n",
       "      <td>...</td>\n",
       "      <td>...</td>\n",
       "      <td>...</td>\n",
       "    </tr>\n",
       "    <tr>\n",
       "      <th>228312</th>\n",
       "      <td>434045</td>\n",
       "      <td>621350</td>\n",
       "      <td>9689</td>\n",
       "      <td>47809</td>\n",
       "      <td>0</td>\n",
       "      <td>4</td>\n",
       "      <td>2</td>\n",
       "    </tr>\n",
       "    <tr>\n",
       "      <th>228313</th>\n",
       "      <td>433974</td>\n",
       "      <td>621126</td>\n",
       "      <td>9689</td>\n",
       "      <td>47817</td>\n",
       "      <td>0</td>\n",
       "      <td>15</td>\n",
       "      <td>2</td>\n",
       "    </tr>\n",
       "    <tr>\n",
       "      <th>228314</th>\n",
       "      <td>61870</td>\n",
       "      <td>154928</td>\n",
       "      <td>328</td>\n",
       "      <td>196289</td>\n",
       "      <td>0</td>\n",
       "      <td>15</td>\n",
       "      <td>0</td>\n",
       "    </tr>\n",
       "    <tr>\n",
       "      <th>228315</th>\n",
       "      <td>172901</td>\n",
       "      <td>2350</td>\n",
       "      <td>258</td>\n",
       "      <td>259033</td>\n",
       "      <td>0</td>\n",
       "      <td>15</td>\n",
       "      <td>0</td>\n",
       "    </tr>\n",
       "    <tr>\n",
       "      <th>228316</th>\n",
       "      <td>190412</td>\n",
       "      <td>172928</td>\n",
       "      <td>2324</td>\n",
       "      <td>274138</td>\n",
       "      <td>0</td>\n",
       "      <td>15</td>\n",
       "      <td>2</td>\n",
       "    </tr>\n",
       "  </tbody>\n",
       "</table>\n",
       "<p>228317 rows × 7 columns</p>\n",
       "</div>"
      ],
      "text/plain": [
       "        num_statuses  no_of_favs  num_friends  num_followers  retweet_count  \\\n",
       "0                 36          10           14              0              0   \n",
       "1                290         101           93              0              0   \n",
       "2                 22          10           52              0              0   \n",
       "3               3624        2026            4              0              0   \n",
       "4              20185       12331            1              0              0   \n",
       "...              ...         ...          ...            ...            ...   \n",
       "228312        434045      621350         9689          47809              0   \n",
       "228313        433974      621126         9689          47817              0   \n",
       "228314         61870      154928          328         196289              0   \n",
       "228315        172901        2350          258         259033              0   \n",
       "228316        190412      172928         2324         274138              0   \n",
       "\n",
       "        hours  label  \n",
       "0          10      0  \n",
       "1           3      0  \n",
       "2          16      0  \n",
       "3          11      0  \n",
       "4          10      0  \n",
       "...       ...    ...  \n",
       "228312      4      2  \n",
       "228313     15      2  \n",
       "228314     15      0  \n",
       "228315     15      0  \n",
       "228316     15      2  \n",
       "\n",
       "[228317 rows x 7 columns]"
      ]
     },
     "execution_count": 226,
     "metadata": {},
     "output_type": "execute_result"
    }
   ],
   "source": [
    "final_df"
   ]
  },
  {
   "cell_type": "code",
   "execution_count": 231,
   "metadata": {},
   "outputs": [
    {
     "data": {
      "text/plain": [
       "array([0, 2, 3, 1])"
      ]
     },
     "execution_count": 231,
     "metadata": {},
     "output_type": "execute_result"
    }
   ],
   "source": [
    "final_df['label'].unique()"
   ]
  },
  {
   "cell_type": "code",
   "execution_count": 243,
   "metadata": {},
   "outputs": [],
   "source": [
    "# Add user names from initial data\n",
    "\n",
    "final_df[['username','tweet']]= data[['user','full_text']]"
   ]
  },
  {
   "cell_type": "code",
   "execution_count": 244,
   "metadata": {},
   "outputs": [
    {
     "data": {
      "text/html": [
       "<div>\n",
       "<style scoped>\n",
       "    .dataframe tbody tr th:only-of-type {\n",
       "        vertical-align: middle;\n",
       "    }\n",
       "\n",
       "    .dataframe tbody tr th {\n",
       "        vertical-align: top;\n",
       "    }\n",
       "\n",
       "    .dataframe thead th {\n",
       "        text-align: right;\n",
       "    }\n",
       "</style>\n",
       "<table border=\"1\" class=\"dataframe\">\n",
       "  <thead>\n",
       "    <tr style=\"text-align: right;\">\n",
       "      <th></th>\n",
       "      <th>num_statuses</th>\n",
       "      <th>no_of_favs</th>\n",
       "      <th>num_friends</th>\n",
       "      <th>num_followers</th>\n",
       "      <th>retweet_count</th>\n",
       "      <th>hours</th>\n",
       "      <th>label</th>\n",
       "      <th>username</th>\n",
       "      <th>tweet</th>\n",
       "    </tr>\n",
       "  </thead>\n",
       "  <tbody>\n",
       "    <tr>\n",
       "      <th>0</th>\n",
       "      <td>36</td>\n",
       "      <td>10</td>\n",
       "      <td>14</td>\n",
       "      <td>0</td>\n",
       "      <td>0</td>\n",
       "      <td>10</td>\n",
       "      <td>0</td>\n",
       "      <td>Ch3rv6</td>\n",
       "      <td>@Junkbot_K The justification of political viol...</td>\n",
       "    </tr>\n",
       "    <tr>\n",
       "      <th>1</th>\n",
       "      <td>290</td>\n",
       "      <td>101</td>\n",
       "      <td>93</td>\n",
       "      <td>0</td>\n",
       "      <td>0</td>\n",
       "      <td>3</td>\n",
       "      <td>0</td>\n",
       "      <td>sara31773</td>\n",
       "      <td>@realDonaldTrump In your name she is dead.  Yo...</td>\n",
       "    </tr>\n",
       "    <tr>\n",
       "      <th>2</th>\n",
       "      <td>22</td>\n",
       "      <td>10</td>\n",
       "      <td>52</td>\n",
       "      <td>0</td>\n",
       "      <td>0</td>\n",
       "      <td>16</td>\n",
       "      <td>0</td>\n",
       "      <td>dgell99</td>\n",
       "      <td>@realDonaldTrump Honestly, could you stoop any...</td>\n",
       "    </tr>\n",
       "    <tr>\n",
       "      <th>3</th>\n",
       "      <td>3624</td>\n",
       "      <td>2026</td>\n",
       "      <td>4</td>\n",
       "      <td>0</td>\n",
       "      <td>0</td>\n",
       "      <td>11</td>\n",
       "      <td>0</td>\n",
       "      <td>45Straight</td>\n",
       "      <td>@foxandfriends @ScottWRasmussen @DineshDSouza ...</td>\n",
       "    </tr>\n",
       "    <tr>\n",
       "      <th>4</th>\n",
       "      <td>20185</td>\n",
       "      <td>12331</td>\n",
       "      <td>1</td>\n",
       "      <td>0</td>\n",
       "      <td>0</td>\n",
       "      <td>10</td>\n",
       "      <td>0</td>\n",
       "      <td>CmikkiC123</td>\n",
       "      <td>Will There Be An \"Executive Order/Travel Ban\" ...</td>\n",
       "    </tr>\n",
       "  </tbody>\n",
       "</table>\n",
       "</div>"
      ],
      "text/plain": [
       "   num_statuses  no_of_favs  num_friends  num_followers  retweet_count  hours  \\\n",
       "0            36          10           14              0              0     10   \n",
       "1           290         101           93              0              0      3   \n",
       "2            22          10           52              0              0     16   \n",
       "3          3624        2026            4              0              0     11   \n",
       "4         20185       12331            1              0              0     10   \n",
       "\n",
       "   label    username                                              tweet  \n",
       "0      0      Ch3rv6  @Junkbot_K The justification of political viol...  \n",
       "1      0   sara31773  @realDonaldTrump In your name she is dead.  Yo...  \n",
       "2      0     dgell99  @realDonaldTrump Honestly, could you stoop any...  \n",
       "3      0  45Straight  @foxandfriends @ScottWRasmussen @DineshDSouza ...  \n",
       "4      0  CmikkiC123  Will There Be An \"Executive Order/Travel Ban\" ...  "
      ]
     },
     "execution_count": 244,
     "metadata": {},
     "output_type": "execute_result"
    }
   ],
   "source": [
    "final_df.head()"
   ]
  },
  {
   "cell_type": "markdown",
   "metadata": {},
   "source": [
    "##### Create new Dataframes for each label categories"
   ]
  },
  {
   "cell_type": "code",
   "execution_count": 373,
   "metadata": {},
   "outputs": [],
   "source": [
    "cat_2 = final_df[final_df['label'] == 2]\n",
    "# cat_2"
   ]
  },
  {
   "cell_type": "code",
   "execution_count": 372,
   "metadata": {},
   "outputs": [],
   "source": [
    "cat_0 = final_df[final_df['label'] == 0]\n",
    "# cat_0"
   ]
  },
  {
   "cell_type": "code",
   "execution_count": 371,
   "metadata": {},
   "outputs": [],
   "source": [
    "cat_1 =final_df[final_df['label'] == 1]\n",
    "# cat_1"
   ]
  },
  {
   "cell_type": "code",
   "execution_count": 370,
   "metadata": {},
   "outputs": [],
   "source": [
    "cat_3 =final_df[final_df['label'] == 3]\n",
    "# cat_3"
   ]
  },
  {
   "cell_type": "code",
   "execution_count": 254,
   "metadata": {},
   "outputs": [
    {
     "data": {
      "text/plain": [
       "'username'"
      ]
     },
     "execution_count": 254,
     "metadata": {},
     "output_type": "execute_result"
    }
   ],
   "source": [
    "# cat_0.columns[7]"
   ]
  },
  {
   "cell_type": "code",
   "execution_count": 365,
   "metadata": {},
   "outputs": [],
   "source": [
    "# Create a function to grab the usernames in each label category and their Tweets and write same to a csv file for further \n",
    "# qualitative analysis\n",
    "\n",
    "def user_tweet(x,y,filename=\"\"):\n",
    "#     count = 0\n",
    "    file_dict = {}\n",
    "    user_list = []\n",
    "    tweet_list= []\n",
    "    \n",
    "    for i in x:\n",
    "        user_list.append(i)\n",
    "        \n",
    "    for k in y:\n",
    "        tweet_list.append(k)\n",
    "        \n",
    "    file_dict['users'] = user_list\n",
    "    file_dict['message'] = tweet_list\n",
    "    \n",
    "    \n",
    "    \n",
    "    csv_data = pd.DataFrame(file_dict)\n",
    "    \n",
    "#     Write dataframe to file\n",
    "    wrt_file =csv_data.to_csv(filename +'.csv', header=True)\n",
    "        \n",
    "    print(\"File has been written to cwd as '{}.csv'\".format(filename))\n",
    "        \n",
    "#     return csv_data\n",
    "        \n",
    "    "
   ]
  },
  {
   "cell_type": "code",
   "execution_count": 366,
   "metadata": {},
   "outputs": [
    {
     "name": "stdout",
     "output_type": "stream",
     "text": [
      "File has been written to cwd as 'cat_2.csv'\n"
     ]
    }
   ],
   "source": [
    "user_tweet(cat_2['username'], cat_2['tweet'],\"cat_2\")"
   ]
  },
  {
   "cell_type": "code",
   "execution_count": 367,
   "metadata": {},
   "outputs": [
    {
     "name": "stdout",
     "output_type": "stream",
     "text": [
      "File has been written to cwd as 'cat_0.csv'\n"
     ]
    }
   ],
   "source": [
    "user_tweet(cat_0['username'], cat_0['tweet'],\"cat_0\")"
   ]
  },
  {
   "cell_type": "code",
   "execution_count": 368,
   "metadata": {},
   "outputs": [
    {
     "name": "stdout",
     "output_type": "stream",
     "text": [
      "File has been written to cwd as 'cat_1.csv'\n"
     ]
    }
   ],
   "source": [
    "user_tweet(cat_1['username'], cat_1['tweet'],\"cat_1\")"
   ]
  },
  {
   "cell_type": "code",
   "execution_count": 369,
   "metadata": {},
   "outputs": [
    {
     "name": "stdout",
     "output_type": "stream",
     "text": [
      "File has been written to cwd as 'cat_3.csv'\n"
     ]
    }
   ],
   "source": [
    "user_tweet(cat_3['username'], cat_3['tweet'],\"cat_3\")"
   ]
  },
  {
   "cell_type": "code",
   "execution_count": null,
   "metadata": {},
   "outputs": [],
   "source": []
  }
 ],
 "metadata": {
  "kernelspec": {
   "display_name": "Python 3",
   "language": "python",
   "name": "python3"
  },
  "language_info": {
   "codemirror_mode": {
    "name": "ipython",
    "version": 3
   },
   "file_extension": ".py",
   "mimetype": "text/x-python",
   "name": "python",
   "nbconvert_exporter": "python",
   "pygments_lexer": "ipython3",
   "version": "3.7.6"
  }
 },
 "nbformat": 4,
 "nbformat_minor": 4
}
