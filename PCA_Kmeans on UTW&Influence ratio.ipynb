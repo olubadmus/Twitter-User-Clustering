{
 "cells": [
  {
   "cell_type": "code",
   "execution_count": 2,
   "metadata": {},
   "outputs": [],
   "source": [
    "import numpy as np\n",
    "import pandas as pd\n",
    "import matplotlib.pyplot as plt\n",
    "import seaborn as sns\n",
    "sns.set_style(style='darkgrid')\n",
    "plt.style.use('tableau-colorblind10')\n",
    "from IPython.display import display\n",
    "%matplotlib inline"
   ]
  },
  {
   "cell_type": "code",
   "execution_count": 3,
   "metadata": {},
   "outputs": [],
   "source": [
    "\n",
    "data= pd.read_csv('combined_ifluence_ratio.csv',low_memory=False )"
   ]
  },
  {
   "cell_type": "code",
   "execution_count": 4,
   "metadata": {},
   "outputs": [
    {
     "data": {
      "text/html": [
       "<div>\n",
       "<style scoped>\n",
       "    .dataframe tbody tr th:only-of-type {\n",
       "        vertical-align: middle;\n",
       "    }\n",
       "\n",
       "    .dataframe tbody tr th {\n",
       "        vertical-align: top;\n",
       "    }\n",
       "\n",
       "    .dataframe thead th {\n",
       "        text-align: right;\n",
       "    }\n",
       "</style>\n",
       "<table border=\"1\" class=\"dataframe\">\n",
       "  <thead>\n",
       "    <tr style=\"text-align: right;\">\n",
       "      <th></th>\n",
       "      <th>user_id</th>\n",
       "      <th>stat_co</th>\n",
       "      <th>fave_co</th>\n",
       "      <th>friend_co</th>\n",
       "      <th>follow_co</th>\n",
       "      <th>retw_co</th>\n",
       "      <th>ftf_ratio</th>\n",
       "      <th>log_ftf</th>\n",
       "      <th>tweet_freq</th>\n",
       "      <th>utw_ratio</th>\n",
       "      <th>log_utw</th>\n",
       "      <th>Influence Ratio</th>\n",
       "    </tr>\n",
       "  </thead>\n",
       "  <tbody>\n",
       "    <tr>\n",
       "      <th>0</th>\n",
       "      <td>5HWorldCom</td>\n",
       "      <td>136496</td>\n",
       "      <td>2800</td>\n",
       "      <td>2</td>\n",
       "      <td>68719</td>\n",
       "      <td>2815</td>\n",
       "      <td>34359.500000</td>\n",
       "      <td>4.536059</td>\n",
       "      <td>1.0</td>\n",
       "      <td>5615.0</td>\n",
       "      <td>3.749350</td>\n",
       "      <td>17.007274</td>\n",
       "    </tr>\n",
       "    <tr>\n",
       "      <th>1</th>\n",
       "      <td>corbett</td>\n",
       "      <td>23782</td>\n",
       "      <td>20388</td>\n",
       "      <td>2</td>\n",
       "      <td>13031</td>\n",
       "      <td>287</td>\n",
       "      <td>6515.500000</td>\n",
       "      <td>3.814014</td>\n",
       "      <td>1.0</td>\n",
       "      <td>20675.0</td>\n",
       "      <td>4.315446</td>\n",
       "      <td>16.459171</td>\n",
       "    </tr>\n",
       "    <tr>\n",
       "      <th>2</th>\n",
       "      <td>harryfear</td>\n",
       "      <td>79458</td>\n",
       "      <td>7130</td>\n",
       "      <td>2</td>\n",
       "      <td>33249</td>\n",
       "      <td>33</td>\n",
       "      <td>16624.500000</td>\n",
       "      <td>4.220775</td>\n",
       "      <td>1.0</td>\n",
       "      <td>7163.0</td>\n",
       "      <td>3.855095</td>\n",
       "      <td>16.271487</td>\n",
       "    </tr>\n",
       "    <tr>\n",
       "      <th>3</th>\n",
       "      <td>NoMalice757</td>\n",
       "      <td>14912</td>\n",
       "      <td>5584</td>\n",
       "      <td>2</td>\n",
       "      <td>42620</td>\n",
       "      <td>7</td>\n",
       "      <td>21310.000000</td>\n",
       "      <td>4.328604</td>\n",
       "      <td>1.0</td>\n",
       "      <td>5591.0</td>\n",
       "      <td>3.747489</td>\n",
       "      <td>16.221397</td>\n",
       "    </tr>\n",
       "    <tr>\n",
       "      <th>4</th>\n",
       "      <td>dbongino</td>\n",
       "      <td>56240</td>\n",
       "      <td>56134</td>\n",
       "      <td>650</td>\n",
       "      <td>1345845</td>\n",
       "      <td>373</td>\n",
       "      <td>2070.530769</td>\n",
       "      <td>3.316291</td>\n",
       "      <td>1.0</td>\n",
       "      <td>56507.0</td>\n",
       "      <td>4.752102</td>\n",
       "      <td>15.759356</td>\n",
       "    </tr>\n",
       "  </tbody>\n",
       "</table>\n",
       "</div>"
      ],
      "text/plain": [
       "       user_id  stat_co  fave_co  friend_co  follow_co  retw_co     ftf_ratio  \\\n",
       "0   5HWorldCom   136496     2800          2      68719     2815  34359.500000   \n",
       "1      corbett    23782    20388          2      13031      287   6515.500000   \n",
       "2    harryfear    79458     7130          2      33249       33  16624.500000   \n",
       "3  NoMalice757    14912     5584          2      42620        7  21310.000000   \n",
       "4     dbongino    56240    56134        650    1345845      373   2070.530769   \n",
       "\n",
       "    log_ftf  tweet_freq  utw_ratio   log_utw  Influence Ratio  \n",
       "0  4.536059         1.0     5615.0  3.749350        17.007274  \n",
       "1  3.814014         1.0    20675.0  4.315446        16.459171  \n",
       "2  4.220775         1.0     7163.0  3.855095        16.271487  \n",
       "3  4.328604         1.0     5591.0  3.747489        16.221397  \n",
       "4  3.316291         1.0    56507.0  4.752102        15.759356  "
      ]
     },
     "metadata": {},
     "output_type": "display_data"
    }
   ],
   "source": [
    "display(data.head())\n",
    "# data.head()"
   ]
  },
  {
   "cell_type": "markdown",
   "metadata": {},
   "source": [
    "#### EDA"
   ]
  },
  {
   "cell_type": "code",
   "execution_count": 5,
   "metadata": {},
   "outputs": [
    {
     "name": "stdout",
     "output_type": "stream",
     "text": [
      "<class 'pandas.core.frame.DataFrame'>\n",
      "RangeIndex: 147756 entries, 0 to 147755\n",
      "Data columns (total 12 columns):\n",
      " #   Column           Non-Null Count   Dtype  \n",
      "---  ------           --------------   -----  \n",
      " 0   user_id          147756 non-null  object \n",
      " 1   stat_co          147756 non-null  int64  \n",
      " 2   fave_co          147756 non-null  int64  \n",
      " 3   friend_co        147756 non-null  int64  \n",
      " 4   follow_co        147756 non-null  int64  \n",
      " 5   retw_co          147756 non-null  int64  \n",
      " 6   ftf_ratio        147756 non-null  float64\n",
      " 7   log_ftf          147756 non-null  float64\n",
      " 8   tweet_freq       147756 non-null  float64\n",
      " 9   utw_ratio        147756 non-null  float64\n",
      " 10  log_utw          147756 non-null  float64\n",
      " 11  Influence Ratio  147756 non-null  float64\n",
      "dtypes: float64(6), int64(5), object(1)\n",
      "memory usage: 13.5+ MB\n"
     ]
    },
    {
     "data": {
      "text/html": [
       "<div>\n",
       "<style scoped>\n",
       "    .dataframe tbody tr th:only-of-type {\n",
       "        vertical-align: middle;\n",
       "    }\n",
       "\n",
       "    .dataframe tbody tr th {\n",
       "        vertical-align: top;\n",
       "    }\n",
       "\n",
       "    .dataframe thead th {\n",
       "        text-align: right;\n",
       "    }\n",
       "</style>\n",
       "<table border=\"1\" class=\"dataframe\">\n",
       "  <thead>\n",
       "    <tr style=\"text-align: right;\">\n",
       "      <th></th>\n",
       "      <th>stat_co</th>\n",
       "      <th>fave_co</th>\n",
       "      <th>friend_co</th>\n",
       "      <th>follow_co</th>\n",
       "      <th>retw_co</th>\n",
       "      <th>ftf_ratio</th>\n",
       "      <th>log_ftf</th>\n",
       "      <th>tweet_freq</th>\n",
       "      <th>utw_ratio</th>\n",
       "      <th>log_utw</th>\n",
       "      <th>Influence Ratio</th>\n",
       "    </tr>\n",
       "  </thead>\n",
       "  <tbody>\n",
       "    <tr>\n",
       "      <th>count</th>\n",
       "      <td>1.477560e+05</td>\n",
       "      <td>1.477560e+05</td>\n",
       "      <td>147756.000000</td>\n",
       "      <td>1.477560e+05</td>\n",
       "      <td>147756.000000</td>\n",
       "      <td>147756.000000</td>\n",
       "      <td>147756.000000</td>\n",
       "      <td>147756.000000</td>\n",
       "      <td>1.477560e+05</td>\n",
       "      <td>147756.000000</td>\n",
       "      <td>147756.000000</td>\n",
       "    </tr>\n",
       "    <tr>\n",
       "      <th>mean</th>\n",
       "      <td>4.291334e+04</td>\n",
       "      <td>3.715719e+04</td>\n",
       "      <td>1802.487026</td>\n",
       "      <td>5.268294e+03</td>\n",
       "      <td>13433.118513</td>\n",
       "      <td>8.791745</td>\n",
       "      <td>2.576114</td>\n",
       "      <td>1.373936</td>\n",
       "      <td>4.488883e+04</td>\n",
       "      <td>4.211452</td>\n",
       "      <td>1.333877</td>\n",
       "    </tr>\n",
       "    <tr>\n",
       "      <th>std</th>\n",
       "      <td>7.378609e+04</td>\n",
       "      <td>6.223451e+04</td>\n",
       "      <td>5913.259932</td>\n",
       "      <td>1.693847e+05</td>\n",
       "      <td>29236.027880</td>\n",
       "      <td>612.794678</td>\n",
       "      <td>563.322415</td>\n",
       "      <td>1.331349</td>\n",
       "      <td>6.542935e+04</td>\n",
       "      <td>0.777814</td>\n",
       "      <td>1.156707</td>\n",
       "    </tr>\n",
       "    <tr>\n",
       "      <th>min</th>\n",
       "      <td>1.000000e+00</td>\n",
       "      <td>0.000000e+00</td>\n",
       "      <td>1.000000</td>\n",
       "      <td>0.000000e+00</td>\n",
       "      <td>0.000000</td>\n",
       "      <td>0.000000</td>\n",
       "      <td>0.000000</td>\n",
       "      <td>0.006984</td>\n",
       "      <td>1.428571e-01</td>\n",
       "      <td>-0.845098</td>\n",
       "      <td>-0.938824</td>\n",
       "    </tr>\n",
       "    <tr>\n",
       "      <th>25%</th>\n",
       "      <td>5.913750e+03</td>\n",
       "      <td>4.056000e+03</td>\n",
       "      <td>302.000000</td>\n",
       "      <td>2.110000e+02</td>\n",
       "      <td>12.000000</td>\n",
       "      <td>0.431937</td>\n",
       "      <td>0.157087</td>\n",
       "      <td>1.000000</td>\n",
       "      <td>6.705000e+03</td>\n",
       "      <td>3.826399</td>\n",
       "      <td>0.618834</td>\n",
       "    </tr>\n",
       "    <tr>\n",
       "      <th>50%</th>\n",
       "      <td>1.855900e+04</td>\n",
       "      <td>1.519900e+04</td>\n",
       "      <td>661.000000</td>\n",
       "      <td>5.560000e+02</td>\n",
       "      <td>836.000000</td>\n",
       "      <td>0.870481</td>\n",
       "      <td>0.276947</td>\n",
       "      <td>1.000000</td>\n",
       "      <td>2.182100e+04</td>\n",
       "      <td>4.338875</td>\n",
       "      <td>1.129715</td>\n",
       "    </tr>\n",
       "    <tr>\n",
       "      <th>75%</th>\n",
       "      <td>4.948750e+04</td>\n",
       "      <td>4.345800e+04</td>\n",
       "      <td>1660.000000</td>\n",
       "      <td>1.597250e+03</td>\n",
       "      <td>11679.000000</td>\n",
       "      <td>1.344700</td>\n",
       "      <td>0.393056</td>\n",
       "      <td>1.000000</td>\n",
       "      <td>5.477600e+04</td>\n",
       "      <td>4.738590</td>\n",
       "      <td>1.637378</td>\n",
       "    </tr>\n",
       "    <tr>\n",
       "      <th>max</th>\n",
       "      <td>3.413584e+06</td>\n",
       "      <td>1.498512e+06</td>\n",
       "      <td>848619.000000</td>\n",
       "      <td>4.388326e+07</td>\n",
       "      <td>134300.000000</td>\n",
       "      <td>189355.535700</td>\n",
       "      <td>206864.131100</td>\n",
       "      <td>85.000000</td>\n",
       "      <td>1.614746e+06</td>\n",
       "      <td>6.208104</td>\n",
       "      <td>20.368562</td>\n",
       "    </tr>\n",
       "  </tbody>\n",
       "</table>\n",
       "</div>"
      ],
      "text/plain": [
       "            stat_co       fave_co      friend_co     follow_co        retw_co  \\\n",
       "count  1.477560e+05  1.477560e+05  147756.000000  1.477560e+05  147756.000000   \n",
       "mean   4.291334e+04  3.715719e+04    1802.487026  5.268294e+03   13433.118513   \n",
       "std    7.378609e+04  6.223451e+04    5913.259932  1.693847e+05   29236.027880   \n",
       "min    1.000000e+00  0.000000e+00       1.000000  0.000000e+00       0.000000   \n",
       "25%    5.913750e+03  4.056000e+03     302.000000  2.110000e+02      12.000000   \n",
       "50%    1.855900e+04  1.519900e+04     661.000000  5.560000e+02     836.000000   \n",
       "75%    4.948750e+04  4.345800e+04    1660.000000  1.597250e+03   11679.000000   \n",
       "max    3.413584e+06  1.498512e+06  848619.000000  4.388326e+07  134300.000000   \n",
       "\n",
       "           ftf_ratio        log_ftf     tweet_freq     utw_ratio  \\\n",
       "count  147756.000000  147756.000000  147756.000000  1.477560e+05   \n",
       "mean        8.791745       2.576114       1.373936  4.488883e+04   \n",
       "std       612.794678     563.322415       1.331349  6.542935e+04   \n",
       "min         0.000000       0.000000       0.006984  1.428571e-01   \n",
       "25%         0.431937       0.157087       1.000000  6.705000e+03   \n",
       "50%         0.870481       0.276947       1.000000  2.182100e+04   \n",
       "75%         1.344700       0.393056       1.000000  5.477600e+04   \n",
       "max    189355.535700  206864.131100      85.000000  1.614746e+06   \n",
       "\n",
       "             log_utw  Influence Ratio  \n",
       "count  147756.000000    147756.000000  \n",
       "mean        4.211452         1.333877  \n",
       "std         0.777814         1.156707  \n",
       "min        -0.845098        -0.938824  \n",
       "25%         3.826399         0.618834  \n",
       "50%         4.338875         1.129715  \n",
       "75%         4.738590         1.637378  \n",
       "max         6.208104        20.368562  "
      ]
     },
     "metadata": {},
     "output_type": "display_data"
    }
   ],
   "source": [
    "data.info()\n",
    "display(data.describe())"
   ]
  },
  {
   "cell_type": "code",
   "execution_count": null,
   "metadata": {},
   "outputs": [],
   "source": []
  },
  {
   "cell_type": "code",
   "execution_count": 6,
   "metadata": {},
   "outputs": [
    {
     "data": {
      "text/plain": [
       "<AxesSubplot:>"
      ]
     },
     "execution_count": 6,
     "metadata": {},
     "output_type": "execute_result"
    },
    {
     "data": {
      "image/png": "[encoded data removed]",
      "text/plain": [
       "<Figure size 432x288 with 1 Axes>"
      ]
     },
     "metadata": {
      "needs_background": "light"
     },
     "output_type": "display_data"
    }
   ],
   "source": [
    "# Visualize missing values\n",
    "\n",
    "sns.heatmap(data.isnull(), cbar=False, cmap='viridis', yticklabels=False)"
   ]
  },
  {
   "cell_type": "code",
   "execution_count": 7,
   "metadata": {},
   "outputs": [
    {
     "data": {
      "text/plain": [
       "Index(['user_id', 'stat_co', 'fave_co', 'friend_co', 'follow_co', 'retw_co',\n",
       "       'ftf_ratio', 'log_ftf', 'tweet_freq', 'utw_ratio', 'log_utw',\n",
       "       'Influence Ratio'],\n",
       "      dtype='object')"
      ]
     },
     "execution_count": 7,
     "metadata": {},
     "output_type": "execute_result"
    }
   ],
   "source": [
    "data.columns"
   ]
  },
  {
   "cell_type": "code",
   "execution_count": 8,
   "metadata": {},
   "outputs": [],
   "source": [
    "# data.corr()"
   ]
  },
  {
   "cell_type": "markdown",
   "metadata": {},
   "source": [
    "###### Visualize Correlations"
   ]
  },
  {
   "cell_type": "code",
   "execution_count": 9,
   "metadata": {},
   "outputs": [
    {
     "data": {
      "image/png": "[encoded data removed]",
      "text/plain": [
       "<Figure size 720x576 with 2 Axes>"
      ]
     },
     "metadata": {
      "needs_background": "light"
     },
     "output_type": "display_data"
    }
   ],
   "source": [
    "plt.figure(figsize=(10,8))\n",
    "sns.heatmap(data.corr(), cmap='inferno_r', annot=True, )\n",
    "plt.savefig('correlation_user_metric.png')"
   ]
  },
  {
   "cell_type": "markdown",
   "metadata": {},
   "source": [
    " Fav_Count & User Term Weight (UTW) seem to be highly correlated."
   ]
  },
  {
   "cell_type": "markdown",
   "metadata": {},
   "source": [
    "#### Pre-Processing \n",
    "We'll need to scale our data so that each feature has a single unit variance."
   ]
  },
  {
   "cell_type": "code",
   "execution_count": 10,
   "metadata": {},
   "outputs": [],
   "source": [
    "# Preprocessing\n",
    "# first we need to scale these numbers to avoid iregularity\n",
    "\n",
    "from sklearn.preprocessing import StandardScaler"
   ]
  },
  {
   "cell_type": "markdown",
   "metadata": {},
   "source": [
    "We instantiate a PCA object, find the principal components using the fit method, then apply the rotation and dimensionality reduction by calling transform()."
   ]
  },
  {
   "cell_type": "code",
   "execution_count": 11,
   "metadata": {},
   "outputs": [],
   "source": [
    "scaler = StandardScaler()\n",
    "\n",
    "# We dropped ftf & utw ratios because we are going to use their logs (log_utw & log_ftf)\n",
    "x = data.drop(['user_id', 'ftf_ratio','utw_ratio'], axis=1)\n",
    "scaler.fit(x)\n",
    "scale_df = scaler.transform(x)"
   ]
  },
  {
   "cell_type": "code",
   "execution_count": 12,
   "metadata": {},
   "outputs": [
    {
     "data": {
      "text/plain": [
       "'DF shape: (147756, 9)'"
      ]
     },
     "metadata": {},
     "output_type": "display_data"
    },
    {
     "data": {
      "text/plain": [
       "array([[ 1.26830098, -0.552062  , -0.30448401, ..., -0.28087078,\n",
       "        -0.59410541, 13.55006119],\n",
       "       [-0.25928201, -0.26945255, -0.30448401, ..., -0.28087078,\n",
       "         0.13370067, 13.07621253],\n",
       "       [ 0.49528007, -0.48248622, -0.30448401, ..., -0.28087078,\n",
       "        -0.45815316, 12.91395475],\n",
       "       ...,\n",
       "       [ 2.49752051, -0.59705327, -0.28774192, ...,  2.14759034,\n",
       "        -5.41449055, -1.15317168],\n",
       "       [ 2.86417621, -0.59705327, -0.26677203, ..., -0.63449668,\n",
       "        -5.41449055, -1.15317168],\n",
       "       [ 5.38116309, -0.59705327, -0.30330023, ...,  0.49028164,\n",
       "        -5.80151246, -1.68060897]])"
      ]
     },
     "execution_count": 12,
     "metadata": {},
     "output_type": "execute_result"
    }
   ],
   "source": [
    "display(f'DF shape: {scale_df.shape}')\n",
    "scale_df"
   ]
  },
  {
   "cell_type": "markdown",
   "metadata": {},
   "source": [
    "# PCA  #\n",
    "\n",
    "[Question: would t-SNE would be more fitting than PCA in this case?]\n",
    "\n",
    "NOTE: I dont know if PCA is neccessary in this case since we do not have many features, but I still go ahead to do it, just incase"
   ]
  },
  {
   "cell_type": "code",
   "execution_count": 13,
   "metadata": {},
   "outputs": [],
   "source": [
    "from sklearn.decomposition import PCA"
   ]
  },
  {
   "cell_type": "code",
   "execution_count": 14,
   "metadata": {},
   "outputs": [],
   "source": [
    "# 4 was chosen at random ....\n",
    "# [Question: is there a good criteria to selecting PCA #]\n",
    "\n",
    "pca = PCA(n_components=4)"
   ]
  },
  {
   "cell_type": "code",
   "execution_count": 15,
   "metadata": {},
   "outputs": [],
   "source": [
    "pca = pca.fit(scale_df)\n",
    "# display(pca)"
   ]
  },
  {
   "cell_type": "code",
   "execution_count": 16,
   "metadata": {},
   "outputs": [],
   "source": [
    "# transform this data into its principal components\n",
    "i_pca = pca.transform(scale_df)"
   ]
  },
  {
   "cell_type": "code",
   "execution_count": 17,
   "metadata": {},
   "outputs": [
    {
     "data": {
      "text/plain": [
       "(147756, 4)"
      ]
     },
     "execution_count": 17,
     "metadata": {},
     "output_type": "execute_result"
    }
   ],
   "source": [
    "# check shape\n",
    "i_pca.shape\n",
    "\n",
    "# scale_df.shape"
   ]
  },
  {
   "cell_type": "code",
   "execution_count": 18,
   "metadata": {},
   "outputs": [
    {
     "data": {
      "text/plain": [
       "array([[ 4.56705022,  1.98442379,  1.86949576,  4.36003266],\n",
       "       [ 4.19197359,  1.33206471,  2.24433806,  4.15842137],\n",
       "       [ 4.0673573 ,  1.6634036 ,  1.91165289,  4.1085652 ],\n",
       "       ...,\n",
       "       [-2.03659514,  8.51577516,  0.3359308 ,  1.11045921],\n",
       "       [-2.29282276,  1.67626076, -2.30949636, -1.01629329],\n",
       "       [-1.66325688,  2.35048764, -3.60153622, -0.19229795]])"
      ]
     },
     "execution_count": 18,
     "metadata": {},
     "output_type": "execute_result"
    }
   ],
   "source": [
    "# type(i_pca)\n",
    "i_pca"
   ]
  },
  {
   "cell_type": "markdown",
   "metadata": {},
   "source": [
    "###### Corresponding the PrincComps with original features"
   ]
  },
  {
   "cell_type": "code",
   "execution_count": 19,
   "metadata": {},
   "outputs": [
    {
     "data": {
      "text/plain": [
       "array([[ 0.46510066,  0.54193984,  0.20878448,  0.07833117,  0.15939576,\n",
       "         0.0337798 , -0.13208935,  0.5279683 ,  0.34279681],\n",
       "       [ 0.15636391,  0.00244612,  0.18607268,  0.61886754, -0.32111543,\n",
       "         0.57592553,  0.21247121, -0.25944554,  0.1032614 ],\n",
       "       [-0.32169837, -0.23207094, -0.36001322,  0.32368178,  0.56109212,\n",
       "         0.35616627, -0.2804215 ,  0.24866849,  0.16162552],\n",
       "       [ 0.0127427 , -0.03069376, -0.18383702, -0.02640719,  0.29931942,\n",
       "        -0.12431517,  0.86151255,  0.00784955,  0.34218455]])"
      ]
     },
     "execution_count": 19,
     "metadata": {},
     "output_type": "execute_result"
    }
   ],
   "source": [
    "pca.components_"
   ]
  },
  {
   "cell_type": "code",
   "execution_count": 20,
   "metadata": {},
   "outputs": [
    {
     "data": {
      "text/plain": [
       "Index(['stat_co', 'fave_co', 'friend_co', 'follow_co', 'retw_co', 'log_ftf',\n",
       "       'tweet_freq', 'log_utw', 'Influence Ratio'],\n",
       "      dtype='object')"
      ]
     },
     "execution_count": 20,
     "metadata": {},
     "output_type": "execute_result"
    }
   ],
   "source": [
    "x.columns"
   ]
  },
  {
   "cell_type": "code",
   "execution_count": 21,
   "metadata": {},
   "outputs": [],
   "source": [
    "df2 = pd.DataFrame(pca.components_, columns=x.columns)"
   ]
  },
  {
   "cell_type": "code",
   "execution_count": 22,
   "metadata": {},
   "outputs": [
    {
     "data": {
      "text/html": [
       "<div>\n",
       "<style scoped>\n",
       "    .dataframe tbody tr th:only-of-type {\n",
       "        vertical-align: middle;\n",
       "    }\n",
       "\n",
       "    .dataframe tbody tr th {\n",
       "        vertical-align: top;\n",
       "    }\n",
       "\n",
       "    .dataframe thead th {\n",
       "        text-align: right;\n",
       "    }\n",
       "</style>\n",
       "<table border=\"1\" class=\"dataframe\">\n",
       "  <thead>\n",
       "    <tr style=\"text-align: right;\">\n",
       "      <th></th>\n",
       "      <th>stat_co</th>\n",
       "      <th>fave_co</th>\n",
       "      <th>friend_co</th>\n",
       "      <th>follow_co</th>\n",
       "      <th>retw_co</th>\n",
       "      <th>log_ftf</th>\n",
       "      <th>tweet_freq</th>\n",
       "      <th>log_utw</th>\n",
       "      <th>Influence Ratio</th>\n",
       "    </tr>\n",
       "  </thead>\n",
       "  <tbody>\n",
       "    <tr>\n",
       "      <th>0</th>\n",
       "      <td>0.465101</td>\n",
       "      <td>0.541940</td>\n",
       "      <td>0.208784</td>\n",
       "      <td>0.078331</td>\n",
       "      <td>0.159396</td>\n",
       "      <td>0.033780</td>\n",
       "      <td>-0.132089</td>\n",
       "      <td>0.527968</td>\n",
       "      <td>0.342797</td>\n",
       "    </tr>\n",
       "    <tr>\n",
       "      <th>1</th>\n",
       "      <td>0.156364</td>\n",
       "      <td>0.002446</td>\n",
       "      <td>0.186073</td>\n",
       "      <td>0.618868</td>\n",
       "      <td>-0.321115</td>\n",
       "      <td>0.575926</td>\n",
       "      <td>0.212471</td>\n",
       "      <td>-0.259446</td>\n",
       "      <td>0.103261</td>\n",
       "    </tr>\n",
       "    <tr>\n",
       "      <th>2</th>\n",
       "      <td>-0.321698</td>\n",
       "      <td>-0.232071</td>\n",
       "      <td>-0.360013</td>\n",
       "      <td>0.323682</td>\n",
       "      <td>0.561092</td>\n",
       "      <td>0.356166</td>\n",
       "      <td>-0.280421</td>\n",
       "      <td>0.248668</td>\n",
       "      <td>0.161626</td>\n",
       "    </tr>\n",
       "    <tr>\n",
       "      <th>3</th>\n",
       "      <td>0.012743</td>\n",
       "      <td>-0.030694</td>\n",
       "      <td>-0.183837</td>\n",
       "      <td>-0.026407</td>\n",
       "      <td>0.299319</td>\n",
       "      <td>-0.124315</td>\n",
       "      <td>0.861513</td>\n",
       "      <td>0.007850</td>\n",
       "      <td>0.342185</td>\n",
       "    </tr>\n",
       "  </tbody>\n",
       "</table>\n",
       "</div>"
      ],
      "text/plain": [
       "    stat_co   fave_co  friend_co  follow_co   retw_co   log_ftf  tweet_freq  \\\n",
       "0  0.465101  0.541940   0.208784   0.078331  0.159396  0.033780   -0.132089   \n",
       "1  0.156364  0.002446   0.186073   0.618868 -0.321115  0.575926    0.212471   \n",
       "2 -0.321698 -0.232071  -0.360013   0.323682  0.561092  0.356166   -0.280421   \n",
       "3  0.012743 -0.030694  -0.183837  -0.026407  0.299319 -0.124315    0.861513   \n",
       "\n",
       "    log_utw  Influence Ratio  \n",
       "0  0.527968         0.342797  \n",
       "1 -0.259446         0.103261  \n",
       "2  0.248668         0.161626  \n",
       "3  0.007850         0.342185  "
      ]
     },
     "execution_count": 22,
     "metadata": {},
     "output_type": "execute_result"
    }
   ],
   "source": [
    "df2"
   ]
  },
  {
   "cell_type": "markdown",
   "metadata": {},
   "source": [
    "##### The strength of the correlations can be better seen with heatmap plotting"
   ]
  },
  {
   "cell_type": "code",
   "execution_count": 23,
   "metadata": {},
   "outputs": [
    {
     "data": {
      "image/png": "[encoded data removed]",
      "text/plain": [
       "<Figure size 720x576 with 2 Axes>"
      ]
     },
     "metadata": {
      "needs_background": "light"
     },
     "output_type": "display_data"
    }
   ],
   "source": [
    "plt.figure(figsize=(10,8))\n",
    "\n",
    "sns.heatmap(df2,cmap='plasma', annot=True)\n",
    "plt.savefig(\"PCA Heatmap.png\")"
   ]
  },
  {
   "cell_type": "markdown",
   "metadata": {},
   "source": [
    "PCs: `PC_0`: Log_utw, fave_co; `PC_1`: follow_co, log_ftf; `PC_2`: retw_co; `PC_3`: tweet_freq"
   ]
  },
  {
   "cell_type": "code",
   "execution_count": null,
   "metadata": {},
   "outputs": [],
   "source": []
  },
  {
   "cell_type": "markdown",
   "metadata": {},
   "source": [
    "##### Use K-Means method to Cluster users"
   ]
  },
  {
   "cell_type": "code",
   "execution_count": 24,
   "metadata": {},
   "outputs": [],
   "source": [
    "from sklearn.cluster import KMeans"
   ]
  },
  {
   "cell_type": "markdown",
   "metadata": {},
   "source": [
    "###### Optimal n_cluster #\n",
    "Using the Within-Cluster Sum of Square (Elbow method) to search for optimal K-Value"
   ]
  },
  {
   "cell_type": "code",
   "execution_count": 25,
   "metadata": {},
   "outputs": [
    {
     "data": {
      "image/png": "[encoded data removed]",
      "text/plain": [
       "<Figure size 432x288 with 1 Axes>"
      ]
     },
     "metadata": {
      "needs_background": "light"
     },
     "output_type": "display_data"
    }
   ],
   "source": [
    "wcss = []\n",
    "for i in range(1, 11):\n",
    "    kmeans = KMeans(n_clusters=i, init='k-means++', max_iter=300, random_state=50)\n",
    "    kmeans.fit(i_pca)\n",
    "    wcss.append(kmeans.inertia_)\n",
    "plt.plot(range(1, 11), wcss)\n",
    "plt.title('Elbow Method')\n",
    "plt.xlabel('Number of clusters')\n",
    "plt.ylabel('WCSS')\n",
    "plt.savefig(\"Elbow_Method.png\")\n",
    "plt.show()\n"
   ]
  },
  {
   "cell_type": "markdown",
   "metadata": {},
   "source": [
    "I determined 4 to be the ideal/optimum value of clusters\n"
   ]
  },
  {
   "cell_type": "code",
   "execution_count": 26,
   "metadata": {},
   "outputs": [],
   "source": [
    "kmeans = KMeans(n_clusters=4)"
   ]
  },
  {
   "cell_type": "code",
   "execution_count": 27,
   "metadata": {},
   "outputs": [
    {
     "data": {
      "text/plain": [
       "KMeans(n_clusters=4)"
      ]
     },
     "execution_count": 27,
     "metadata": {},
     "output_type": "execute_result"
    }
   ],
   "source": [
    "kmeans.fit(i_pca)"
   ]
  },
  {
   "cell_type": "code",
   "execution_count": 28,
   "metadata": {},
   "outputs": [
    {
     "data": {
      "text/plain": [
       "array([0, 3, 3, ..., 1, 1, 1], dtype=int32)"
      ]
     },
     "execution_count": 28,
     "metadata": {},
     "output_type": "execute_result"
    }
   ],
   "source": [
    "kmeans.labels_"
   ]
  },
  {
   "cell_type": "code",
   "execution_count": 29,
   "metadata": {},
   "outputs": [
    {
     "data": {
      "text/plain": [
       "array([[ 2.50363992e+00,  3.23467212e-01, -8.64629606e-01,\n",
       "        -1.12328980e-01],\n",
       "       [-5.32957864e-01,  8.38635261e-02, -1.08902591e-01,\n",
       "        -8.50665259e-02],\n",
       "       [ 1.81174308e+01,  1.70034119e+02,  9.37213664e+01,\n",
       "        -1.61893948e+01],\n",
       "       [ 9.92467339e-01, -1.26419087e+00,  2.19980683e+00,\n",
       "         9.17296692e-01]])"
      ]
     },
     "execution_count": 29,
     "metadata": {},
     "output_type": "execute_result"
    }
   ],
   "source": [
    "centroids=kmeans.cluster_centers_\n",
    "kmeans.cluster_centers_"
   ]
  },
  {
   "cell_type": "markdown",
   "metadata": {},
   "source": [
    "###### Visualize the clusters"
   ]
  },
  {
   "cell_type": "code",
   "execution_count": 30,
   "metadata": {},
   "outputs": [
    {
     "data": {
      "text/plain": [
       "<matplotlib.legend.Legend at 0x7f9a9388afd0>"
      ]
     },
     "execution_count": 30,
     "metadata": {},
     "output_type": "execute_result"
    },
    {
     "data": {
      "image/png": "[encoded data removed]",
      "text/plain": [
       "<Figure size 432x432 with 1 Axes>"
      ]
     },
     "metadata": {
      "needs_background": "light"
     },
     "output_type": "display_data"
    }
   ],
   "source": [
    "fig, ax = plt.subplots(figsize=(6, 6))\n",
    "\n",
    "X = plt.scatter(i_pca[kmeans.labels_ == 0, 0], i_pca[kmeans.labels_ == 0, 1],\n",
    "               c='green', label='cluster 1')\n",
    "Y = plt.scatter(i_pca[kmeans.labels_ == 1, 0], i_pca[kmeans.labels_ == 1, 1],\n",
    "            c='yellow', label='cluster 2')\n",
    "Z = plt.scatter(i_pca[kmeans.labels_ == 2, 0], i_pca[kmeans.labels_ == 2, 1],\n",
    "            c='black', label='cluster 3')\n",
    "G= plt.scatter(i_pca[kmeans.labels_ == 3, 0], i_pca[kmeans.labels_ == 3, 1],\n",
    "            c='blue', label='cluster 4')\n",
    "\n",
    "plt.legend()"
   ]
  },
  {
   "cell_type": "code",
   "execution_count": 31,
   "metadata": {},
   "outputs": [],
   "source": [
    "# Alternatively"
   ]
  },
  {
   "cell_type": "code",
   "execution_count": 32,
   "metadata": {},
   "outputs": [
    {
     "data": {
      "image/png": "[encoded data removed]",
      "text/plain": [
       "<Figure size 432x432 with 1 Axes>"
      ]
     },
     "metadata": {
      "needs_background": "light"
     },
     "output_type": "display_data"
    }
   ],
   "source": [
    "plt.figure(figsize=(6,6))\n",
    "sns.set_style(style='whitegrid')\n",
    "plt.title('K_Means Cluster')\n",
    "plt.scatter(i_pca[:,0], i_pca[:,1], c=kmeans.labels_,cmap='inferno_r')\n",
    "plt.savefig('final_clusters.png')\n",
    "# plt.legend(labels=kmeans.labels_)\n"
   ]
  },
  {
   "cell_type": "code",
   "execution_count": null,
   "metadata": {},
   "outputs": [],
   "source": []
  },
  {
   "cell_type": "markdown",
   "metadata": {},
   "source": [
    "##### 3D Plotting"
   ]
  },
  {
   "cell_type": "code",
   "execution_count": null,
   "metadata": {},
   "outputs": [],
   "source": [
    "from mpl_toolkits import mplot3d\n",
    "from mpl_toolkits.mplot3d import Axes3D\n",
    "%matplotlib inline\n",
    "\n",
    "fig = plt.figure(figsize=(12,9))\n",
    "ax = Axes3D(fig, rect=[1, 1, 0.5, 0.6], elev=18, azim=34, auto_add_to_figure=False) \n",
    "fig.add_axes(ax)\n",
    "kmeans.fit(i_pca)\n",
    "labels = kmeans.labels_\n",
    "\n",
    "ax.scatter3D(i_pca[:, 2], i_pca[:, 1],i_pca[:,0],\n",
    "           c=kmeans.labels_.astype(np.float64), cmap='plasma', marker='.')\n"
   ]
  },
  {
   "cell_type": "code",
   "execution_count": null,
   "metadata": {},
   "outputs": [],
   "source": [
    "# visualizing the centroids\n",
    "plt.scatter(centroids[:, 0], centroids[:, 1], marker='*', s=300, c='r', label='centroid')"
   ]
  },
  {
   "cell_type": "markdown",
   "metadata": {},
   "source": [
    "#### Predicting Cluster Classes\n"
   ]
  },
  {
   "cell_type": "code",
   "execution_count": null,
   "metadata": {},
   "outputs": [],
   "source": [
    "y_pred = kmeans.fit_predict(x)"
   ]
  },
  {
   "cell_type": "code",
   "execution_count": null,
   "metadata": {},
   "outputs": [],
   "source": [
    "# len(y_pred)\n",
    "y_pred"
   ]
  },
  {
   "cell_type": "code",
   "execution_count": null,
   "metadata": {},
   "outputs": [],
   "source": [
    "# creating a new dataframe\n",
    "final_df = x"
   ]
  },
  {
   "cell_type": "code",
   "execution_count": null,
   "metadata": {},
   "outputs": [],
   "source": [
    "# adding the label as a columns to dataframe\n",
    "\n",
    "final_df['label'] = y_pred"
   ]
  },
  {
   "cell_type": "code",
   "execution_count": null,
   "metadata": {},
   "outputs": [],
   "source": [
    "final_df"
   ]
  },
  {
   "cell_type": "code",
   "execution_count": null,
   "metadata": {},
   "outputs": [],
   "source": [
    "final_df['label'].value_counts()"
   ]
  },
  {
   "cell_type": "code",
   "execution_count": null,
   "metadata": {},
   "outputs": [],
   "source": [
    "# Import original data\n",
    "orig= pd.read_csv('charlottsville_cleaned.csv', low_memory=False)\n",
    "orig.head()"
   ]
  },
  {
   "cell_type": "code",
   "execution_count": null,
   "metadata": {},
   "outputs": [],
   "source": [
    "# Add user names from initial data\n",
    "\n",
    "final_df[['username','tweet']]= orig[['user','full_text']]"
   ]
  },
  {
   "cell_type": "code",
   "execution_count": null,
   "metadata": {},
   "outputs": [],
   "source": [
    "final_df.label.value_counts()"
   ]
  },
  {
   "cell_type": "code",
   "execution_count": null,
   "metadata": {},
   "outputs": [],
   "source": [
    "final_df.head()"
   ]
  },
  {
   "cell_type": "markdown",
   "metadata": {},
   "source": [
    "##### Create new Dataframes for each label categories"
   ]
  },
  {
   "cell_type": "code",
   "execution_count": null,
   "metadata": {},
   "outputs": [],
   "source": [
    "cat_2 = final_df[final_df['label'] == 2]\n",
    "# cat_2"
   ]
  },
  {
   "cell_type": "code",
   "execution_count": null,
   "metadata": {},
   "outputs": [],
   "source": [
    "cat_0 = final_df[final_df['label'] == 0]\n",
    "# cat_0"
   ]
  },
  {
   "cell_type": "code",
   "execution_count": null,
   "metadata": {},
   "outputs": [],
   "source": [
    "cat_1 =final_df[final_df['label'] == 1]\n",
    "# cat_1"
   ]
  },
  {
   "cell_type": "code",
   "execution_count": null,
   "metadata": {},
   "outputs": [],
   "source": [
    "cat_3 =final_df[final_df['label'] == 3]\n",
    "# cat_3"
   ]
  },
  {
   "cell_type": "code",
   "execution_count": null,
   "metadata": {},
   "outputs": [],
   "source": [
    "# Create a function to grab the usernames in each label category and their Tweets and write same to a csv file for further \n",
    "# qualitative analysis\n",
    "\n",
    "def user_tweet(x,y,filename=\"\"):\n",
    "#     count = 0\n",
    "    file_dict = {}\n",
    "    user_list = []\n",
    "    tweet_list= []\n",
    "    \n",
    "    for i in x:\n",
    "        user_list.append(i)\n",
    "        \n",
    "    for k in y:\n",
    "        tweet_list.append(k)\n",
    "        \n",
    "    file_dict['users'] = user_list\n",
    "    file_dict['message'] = tweet_list\n",
    "    \n",
    "    \n",
    "    \n",
    "    csv_data = pd.DataFrame(file_dict)\n",
    "    \n",
    "#     Write dataframe to file\n",
    "    wrt_file =csv_data.to_csv(filename +'.csv', header=True)\n",
    "        \n",
    "    print(\"File has been written to cwd as '{}.csv'\".format(filename))\n",
    "        \n",
    "#     return csv_data\n",
    "        \n",
    "    "
   ]
  },
  {
   "cell_type": "code",
   "execution_count": null,
   "metadata": {},
   "outputs": [],
   "source": [
    "user_tweet(cat_2['username'], cat_2['tweet'],\"cat_2\")"
   ]
  },
  {
   "cell_type": "code",
   "execution_count": null,
   "metadata": {},
   "outputs": [],
   "source": [
    "user_tweet(cat_0['username'], cat_0['tweet'],\"cat_0\")"
   ]
  },
  {
   "cell_type": "code",
   "execution_count": null,
   "metadata": {},
   "outputs": [],
   "source": [
    "user_tweet(cat_1['username'], cat_1['tweet'],\"cat_1\")"
   ]
  },
  {
   "cell_type": "code",
   "execution_count": null,
   "metadata": {},
   "outputs": [],
   "source": [
    "user_tweet(cat_3['username'], cat_3['tweet'],\"cat_3\")"
   ]
  },
  {
   "cell_type": "code",
   "execution_count": null,
   "metadata": {},
   "outputs": [],
   "source": [
    "sns.countplot(x=final_df['label'])"
   ]
  },
  {
   "cell_type": "code",
   "execution_count": null,
   "metadata": {},
   "outputs": [],
   "source": [
    "# export Label List to file\n",
    "\n",
    "lst =final_df['label']\n",
    "lab_df = pd.DataFrame(lst)\n",
    "# lab_df\n",
    "# Write to file for export\n",
    "lab_df.to_csv(\"label.csv\", header=True)\n"
   ]
  },
  {
   "cell_type": "markdown",
   "metadata": {},
   "source": [
    "##### Clusterting Score/Evaluation"
   ]
  },
  {
   "cell_type": "code",
   "execution_count": null,
   "metadata": {},
   "outputs": [],
   "source": [
    "from sklearn.metrics import silhouette_score"
   ]
  },
  {
   "cell_type": "code",
   "execution_count": null,
   "metadata": {},
   "outputs": [],
   "source": [
    "si_score = silhouette_score(x, y_pred)"
   ]
  },
  {
   "cell_type": "code",
   "execution_count": null,
   "metadata": {},
   "outputs": [],
   "source": []
  },
  {
   "cell_type": "code",
   "execution_count": null,
   "metadata": {},
   "outputs": [],
   "source": []
  }
 ],
 "metadata": {
  "kernelspec": {
   "display_name": "Python 3 (ipykernel)",
   "language": "python",
   "name": "python3"
  },
  "language_info": {
   "codemirror_mode": {
    "name": "ipython",
    "version": 3
   },
   "file_extension": ".py",
   "mimetype": "text/x-python",
   "name": "python",
   "nbconvert_exporter": "python",
   "pygments_lexer": "ipython3",
   "version": "3.9.7"
  }
 },
 "nbformat": 4,
 "nbformat_minor": 4
}
